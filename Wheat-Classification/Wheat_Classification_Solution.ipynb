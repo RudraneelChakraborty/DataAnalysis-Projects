{
 "cells": [
  {
   "cell_type": "markdown",
   "id": "edc2b127-b755-41a5-831d-eeb14c31300a",
   "metadata": {},
   "source": [
    "# Wings - T3 - Aug 2023 - Medium Challenge 1 - Wheat Dataset"
   ]
  },
  {
   "cell_type": "markdown",
   "id": "b9da64d1-1c9f-4c26-ac8e-5b709ee7455a",
   "metadata": {},
   "source": [
    "In this case study, we will be working with a dataset of wheat kernels. The dataset contains measurements from three different varieties of wheat: Kama, Rosa, and Canadian.\n",
    "\n",
    "The measurements include:\n",
    "1. Area (A)\n",
    "2. Perimeter (P)\n",
    "3. Compactness (C = 4πA/P²)\n",
    "4. Length of kernel\n",
    "5. Width of kernel\n",
    "6. Asymmetry coefficient\n",
    "7. Length of kernel groove\n",
    "\n",
    "These measurements are all continuous variables, and they can be used for tasks like classification or cluster analysis to distinguish between the different varieties of wheat.\n",
    "\n",
    "Your task is to create a machine learning model that can accurately classify the variety of wheat given the measurements of a kernel. You will need to perform exploratory data analysis, preprocess the data, train different models, and evaluate their performance. You will also need to optimize the best performing model and present your results.\n",
    "\n",
    "- Read the instructions and code for the questions given\n",
    "- Run till the last cell to save your answers\n",
    "- Do not delete any cell\n",
    "\n",
    "Good luck!"
   ]
  },
  {
   "cell_type": "markdown",
   "id": "6c59609d-a67d-45eb-9319-379f07615957",
   "metadata": {},
   "source": [
    "Run the below cell to import required packages"
   ]
  },
  {
   "cell_type": "code",
   "execution_count": 97,
   "id": "a3a9b145-42ab-4c5a-bec6-392c8b85eb2c",
   "metadata": {
    "tags": []
   },
   "outputs": [
    {
     "name": "stdout",
     "output_type": "stream",
     "text": [
      "mkdir: cannot create directory ‘.ans’: File exists\n"
     ]
    }
   ],
   "source": [
    "import pandas as pd\n",
    "import numpy as np\n",
    "import matplotlib.pyplot as plt\n",
    "import seaborn as sns\n",
    "!mkdir .ans\n",
    "from wings_classification_wheatdataset import test_wings_wheat"
   ]
  },
  {
   "cell_type": "markdown",
   "id": "9d343f15-9590-4726-85eb-49873e689391",
   "metadata": {},
   "source": [
    "Read wheat.csv and store it in variable data"
   ]
  },
  {
   "cell_type": "code",
   "execution_count": 98,
   "id": "ed78191f-e8df-494a-8c6c-b775cb4a24b0",
   "metadata": {
    "tags": []
   },
   "outputs": [],
   "source": [
    "#Enter code below\n",
    "data = pd.read_csv('wheat.csv')\n",
    "#End"
   ]
  },
  {
   "cell_type": "markdown",
   "id": "938cc650-62ef-4b47-a3d6-43a3c1147905",
   "metadata": {},
   "source": [
    "# Task 1 - EDA"
   ]
  },
  {
   "cell_type": "markdown",
   "id": "d21da968-1cb3-48a6-9079-8de2300b16ef",
   "metadata": {},
   "source": [
    "## Question 1 :\n",
    "\n",
    "### Exploratory Data Analysis (EDA) \n",
    "\n",
    "The objective of this task is to perform EDA on a given dataset by following a series of steps. \n",
    "\n",
    "\n",
    "- Find the dimensions of the dataset and store it in variable `shape`. Type of shape - Tuple.\n",
    "- Check whether the dataset contains any missing or null values.Store the count of NA values or missing values in each column and store the result in variable `na_values_count`.   Type of na_values_count - Pandas Series\n",
    "- Describe data .Find the central tendencies, dispersion in data. Store the dataframe in variable `dist`. Type of dist - DataFrame. Hint - Use pandas function.\n",
    "- Find the balance of classes within the dataset on the different varieties of wheat. Store the count of each class in variable `calls_freq`.Class names should be in increasing order. Hint : Apply pandas function. Type of class_freq - Series\n",
    "- Example -\n",
    "    - Class 1 : count\n",
    "    - Class 2 : count\n",
    "    - Class 3 : count"
   ]
  },
  {
   "cell_type": "code",
   "execution_count": 99,
   "id": "e695d56c-bb6b-448d-9e39-69e87cdfe89f",
   "metadata": {
    "tags": []
   },
   "outputs": [
    {
     "data": {
      "text/html": [
       "<div>\n",
       "<style scoped>\n",
       "    .dataframe tbody tr th:only-of-type {\n",
       "        vertical-align: middle;\n",
       "    }\n",
       "\n",
       "    .dataframe tbody tr th {\n",
       "        vertical-align: top;\n",
       "    }\n",
       "\n",
       "    .dataframe thead th {\n",
       "        text-align: right;\n",
       "    }\n",
       "</style>\n",
       "<table border=\"1\" class=\"dataframe\">\n",
       "  <thead>\n",
       "    <tr style=\"text-align: right;\">\n",
       "      <th></th>\n",
       "      <th>area</th>\n",
       "      <th>perimeter</th>\n",
       "      <th>compactness</th>\n",
       "      <th>length</th>\n",
       "      <th>width</th>\n",
       "      <th>asymmetry coefficient</th>\n",
       "      <th>groove length</th>\n",
       "      <th>category</th>\n",
       "    </tr>\n",
       "  </thead>\n",
       "  <tbody>\n",
       "    <tr>\n",
       "      <th>0</th>\n",
       "      <td>15.26</td>\n",
       "      <td>14.84</td>\n",
       "      <td>0.8710</td>\n",
       "      <td>5.763</td>\n",
       "      <td>3.312</td>\n",
       "      <td>2.221</td>\n",
       "      <td>5.220</td>\n",
       "      <td>1.0</td>\n",
       "    </tr>\n",
       "    <tr>\n",
       "      <th>1</th>\n",
       "      <td>14.88</td>\n",
       "      <td>14.57</td>\n",
       "      <td>0.8811</td>\n",
       "      <td>5.554</td>\n",
       "      <td>3.333</td>\n",
       "      <td>1.018</td>\n",
       "      <td>4.956</td>\n",
       "      <td>1.0</td>\n",
       "    </tr>\n",
       "    <tr>\n",
       "      <th>2</th>\n",
       "      <td>14.29</td>\n",
       "      <td>14.09</td>\n",
       "      <td>0.9050</td>\n",
       "      <td>5.291</td>\n",
       "      <td>3.337</td>\n",
       "      <td>2.699</td>\n",
       "      <td>4.825</td>\n",
       "      <td>1.0</td>\n",
       "    </tr>\n",
       "    <tr>\n",
       "      <th>3</th>\n",
       "      <td>13.84</td>\n",
       "      <td>13.94</td>\n",
       "      <td>0.8955</td>\n",
       "      <td>5.324</td>\n",
       "      <td>3.379</td>\n",
       "      <td>2.259</td>\n",
       "      <td>4.805</td>\n",
       "      <td>1.0</td>\n",
       "    </tr>\n",
       "    <tr>\n",
       "      <th>4</th>\n",
       "      <td>16.14</td>\n",
       "      <td>14.99</td>\n",
       "      <td>0.9034</td>\n",
       "      <td>5.658</td>\n",
       "      <td>3.562</td>\n",
       "      <td>1.355</td>\n",
       "      <td>5.175</td>\n",
       "      <td>1.0</td>\n",
       "    </tr>\n",
       "    <tr>\n",
       "      <th>...</th>\n",
       "      <td>...</td>\n",
       "      <td>...</td>\n",
       "      <td>...</td>\n",
       "      <td>...</td>\n",
       "      <td>...</td>\n",
       "      <td>...</td>\n",
       "      <td>...</td>\n",
       "      <td>...</td>\n",
       "    </tr>\n",
       "    <tr>\n",
       "      <th>205</th>\n",
       "      <td>12.19</td>\n",
       "      <td>13.20</td>\n",
       "      <td>0.8783</td>\n",
       "      <td>5.137</td>\n",
       "      <td>2.981</td>\n",
       "      <td>3.631</td>\n",
       "      <td>4.870</td>\n",
       "      <td>3.0</td>\n",
       "    </tr>\n",
       "    <tr>\n",
       "      <th>206</th>\n",
       "      <td>11.23</td>\n",
       "      <td>12.88</td>\n",
       "      <td>0.8511</td>\n",
       "      <td>5.140</td>\n",
       "      <td>2.795</td>\n",
       "      <td>4.325</td>\n",
       "      <td>5.003</td>\n",
       "      <td>3.0</td>\n",
       "    </tr>\n",
       "    <tr>\n",
       "      <th>207</th>\n",
       "      <td>13.20</td>\n",
       "      <td>13.66</td>\n",
       "      <td>0.8883</td>\n",
       "      <td>5.236</td>\n",
       "      <td>3.232</td>\n",
       "      <td>8.315</td>\n",
       "      <td>5.056</td>\n",
       "      <td>3.0</td>\n",
       "    </tr>\n",
       "    <tr>\n",
       "      <th>208</th>\n",
       "      <td>11.84</td>\n",
       "      <td>13.21</td>\n",
       "      <td>0.8521</td>\n",
       "      <td>5.175</td>\n",
       "      <td>2.836</td>\n",
       "      <td>3.598</td>\n",
       "      <td>5.044</td>\n",
       "      <td>3.0</td>\n",
       "    </tr>\n",
       "    <tr>\n",
       "      <th>209</th>\n",
       "      <td>12.30</td>\n",
       "      <td>13.34</td>\n",
       "      <td>0.8684</td>\n",
       "      <td>5.243</td>\n",
       "      <td>2.974</td>\n",
       "      <td>5.637</td>\n",
       "      <td>5.063</td>\n",
       "      <td>3.0</td>\n",
       "    </tr>\n",
       "  </tbody>\n",
       "</table>\n",
       "<p>210 rows × 8 columns</p>\n",
       "</div>"
      ],
      "text/plain": [
       "      area  perimeter  compactness  length  width  asymmetry coefficient  \\\n",
       "0    15.26      14.84       0.8710   5.763  3.312                  2.221   \n",
       "1    14.88      14.57       0.8811   5.554  3.333                  1.018   \n",
       "2    14.29      14.09       0.9050   5.291  3.337                  2.699   \n",
       "3    13.84      13.94       0.8955   5.324  3.379                  2.259   \n",
       "4    16.14      14.99       0.9034   5.658  3.562                  1.355   \n",
       "..     ...        ...          ...     ...    ...                    ...   \n",
       "205  12.19      13.20       0.8783   5.137  2.981                  3.631   \n",
       "206  11.23      12.88       0.8511   5.140  2.795                  4.325   \n",
       "207  13.20      13.66       0.8883   5.236  3.232                  8.315   \n",
       "208  11.84      13.21       0.8521   5.175  2.836                  3.598   \n",
       "209  12.30      13.34       0.8684   5.243  2.974                  5.637   \n",
       "\n",
       "     groove length  category  \n",
       "0            5.220       1.0  \n",
       "1            4.956       1.0  \n",
       "2            4.825       1.0  \n",
       "3            4.805       1.0  \n",
       "4            5.175       1.0  \n",
       "..             ...       ...  \n",
       "205          4.870       3.0  \n",
       "206          5.003       3.0  \n",
       "207          5.056       3.0  \n",
       "208          5.044       3.0  \n",
       "209          5.063       3.0  \n",
       "\n",
       "[210 rows x 8 columns]"
      ]
     },
     "execution_count": 99,
     "metadata": {},
     "output_type": "execute_result"
    }
   ],
   "source": [
    "data"
   ]
  },
  {
   "cell_type": "code",
   "execution_count": 100,
   "id": "c1a1356a-777a-4d84-a127-18c153c685ca",
   "metadata": {
    "tags": []
   },
   "outputs": [
    {
     "data": {
      "text/plain": [
       "category\n",
       "1.0    70\n",
       "2.0    70\n",
       "3.0    70\n",
       "Name: category, dtype: int64"
      ]
     },
     "execution_count": 100,
     "metadata": {},
     "output_type": "execute_result"
    }
   ],
   "source": [
    "#Enter code below\n",
    "\n",
    "shape = data.shape\n",
    "na_values_count = data.isna().sum()\n",
    "dist = data.describe()\n",
    "class_freq = data.groupby('category')['category'].count()\n",
    "class_freq\n",
    "\n",
    "#End"
   ]
  },
  {
   "cell_type": "markdown",
   "id": "6234e60f-577c-4f52-a9d3-650032974d14",
   "metadata": {
    "tags": []
   },
   "source": [
    "**Run the below cell to save q1**"
   ]
  },
  {
   "cell_type": "code",
   "execution_count": 101,
   "id": "ff5af122-f810-41f2-9c0e-b832f4ee9c96",
   "metadata": {
    "tags": []
   },
   "outputs": [
    {
     "name": "stdout",
     "output_type": "stream",
     "text": [
      "Test case 1 Passed\n"
     ]
    }
   ],
   "source": [
    "try:\n",
    "    q1 = [shape,na_values_count,dist,class_freq]\n",
    "    test_wings_wheat.save_answer_q1(q1)\n",
    "except:\n",
    "    print(\"Please check the expected variable\")"
   ]
  },
  {
   "cell_type": "markdown",
   "id": "38b50e4b-8758-4e0d-9844-34f9213b2d0a",
   "metadata": {},
   "source": [
    "## Question 2 :\n",
    "\n",
    "### Vizualisation : The objective of this task is to create a scatter plot to visualize the relationship between length and width, with category variable as the color scheme.\n",
    "\n",
    "- Use the \"figure\" and \"axes\" methods to create a scatter plot. The x-axis should represent the length, and the y-axis should represent the width.\n",
    "\n",
    "- Assign different colors to the data points based on a category variable. Each category will be represented by a distinct color in the scatter plot.\n",
    "\n",
    "- Add title \"Scatter plot Length/Width/Category\", x-label \"Length\", and y-label \"Width\".\n",
    "\n",
    "- Store the figure object in variable `q2`\n",
    "\n",
    "\n",
    "\n",
    "**Sample plot**\n",
    "\n",
    "<img src=\"sample_plot_1.jpg\" width=\"200px\" height=\"200px\">\n"
   ]
  },
  {
   "cell_type": "code",
   "execution_count": 102,
   "id": "8ec11fad-229c-4b23-8f6f-ef8be32ac9a3",
   "metadata": {
    "tags": []
   },
   "outputs": [
    {
     "data": {
      "image/png": "[encoded data removed]",
      "text/plain": [
       "<Figure size 800x800 with 1 Axes>"
      ]
     },
     "metadata": {},
     "output_type": "display_data"
    }
   ],
   "source": [
    "fig = plt.figure(figsize=(8,8))\n",
    "ax = fig.add_subplot()\n",
    "#Enter code below\n",
    "\n",
    "ax.scatter(data['length'],data['width'],c=data['category'])\n",
    "ax.set_title('Scatter plot Length/Width/Category')\n",
    "ax.set_xlabel('Length')\n",
    "ax.set_ylabel('Width')\n",
    "\n",
    "\n",
    "#End\n",
    "q2 = fig"
   ]
  },
  {
   "cell_type": "markdown",
   "id": "f67a3902-d0aa-45c9-b2c3-ea0192b33505",
   "metadata": {},
   "source": [
    "**Run the below cell to save q2**"
   ]
  },
  {
   "cell_type": "code",
   "execution_count": 103,
   "id": "1e84ffa7-1404-4aca-b3a1-669538ceea95",
   "metadata": {
    "tags": []
   },
   "outputs": [
    {
     "name": "stdout",
     "output_type": "stream",
     "text": [
      "Test case 2 Passed\n"
     ]
    }
   ],
   "source": [
    "try:\n",
    "    test_wings_wheat.save_answer_q2(q2)\n",
    "except:\n",
    "    print(\"Please check plot 1\")"
   ]
  },
  {
   "cell_type": "markdown",
   "id": "9c94d98a-b15f-438d-a1d3-fd07b2c38fd9",
   "metadata": {},
   "source": [
    "# Task 2 - Feature Engineering"
   ]
  },
  {
   "cell_type": "markdown",
   "id": "295dd763-9cff-463b-ad95-91c1ce6621fb",
   "metadata": {},
   "source": [
    "## Question 3 : Feature Engineering - Discretization Technique\n",
    " \n",
    "### The objective of this task is to apply discretization technique on dataset to create a new column \"scale\" based on the values in the \"area\" column. \n",
    "\n",
    "\n",
    "- Add a new column called \"scale\" to the dataset\n",
    "- Discretization thresholds :\n",
    "    - small scale - <12\n",
    "    - medium scale- 12 to 17\n",
    "    - large scale - >17"
   ]
  },
  {
   "cell_type": "code",
   "execution_count": 104,
   "id": "4a95693f-3ff1-4b44-90fe-bb162290f72d",
   "metadata": {
    "tags": []
   },
   "outputs": [
    {
     "data": {
      "text/plain": [
       "0      medium scale\n",
       "1      medium scale\n",
       "2      medium scale\n",
       "3      medium scale\n",
       "4      medium scale\n",
       "           ...     \n",
       "205    medium scale\n",
       "206     small scale\n",
       "207    medium scale\n",
       "208     small scale\n",
       "209    medium scale\n",
       "Name: scale, Length: 210, dtype: category\n",
       "Categories (3, object): ['small scale' < 'medium scale' < 'large scale']"
      ]
     },
     "execution_count": 104,
     "metadata": {},
     "output_type": "execute_result"
    }
   ],
   "source": [
    "#Enter code below\n",
    "bins = [0,12,17,np.float64('inf')]\n",
    "labels = ['small scale','medium scale','large scale']\n",
    "\n",
    "data['scale'] = pd.cut(data['area'],bins=bins, labels = labels)\n",
    "data['scale']\n",
    "\n",
    "\n",
    "\n",
    "#End\n"
   ]
  },
  {
   "cell_type": "markdown",
   "id": "b14d9b8a-b208-4e44-8b57-819ba58138b9",
   "metadata": {},
   "source": [
    "**Run the below cell to save q3**"
   ]
  },
  {
   "cell_type": "code",
   "execution_count": 105,
   "id": "07e25396-bc69-4f7b-be0f-ed662cddbefa",
   "metadata": {
    "tags": []
   },
   "outputs": [
    {
     "name": "stdout",
     "output_type": "stream",
     "text": [
      "Test case 3 Passed\n"
     ]
    }
   ],
   "source": [
    "try:\n",
    "    q3 = data.copy()\n",
    "    test_wings_wheat.save_answer_q3(q3)\n",
    "except:\n",
    "    print(\"Please check column scale\")"
   ]
  },
  {
   "cell_type": "markdown",
   "id": "1c9ff1c0-4afb-4559-9b65-374cbc322c91",
   "metadata": {},
   "source": [
    "# Task - 3 Data Preprocessing"
   ]
  },
  {
   "cell_type": "markdown",
   "id": "2e5975d8-e802-44d8-9fc9-cf7d3d94241e",
   "metadata": {},
   "source": [
    "## Question 4 :\n",
    "\n",
    "### Preprocessing - The objective of this task is to perform data-preprocessing on data\n",
    "\n",
    "- Remove NA Values\n",
    "\n",
    "- Use the box plot visualization technique to check for outliers in the dataset. Remove the outliers from data\n",
    "- Encode categorical columns in the dataset to numerical values. Hint : Use label encoder.\n",
    "- Standardize the numerical variables in the dataset to ensure they are on a similar scale. \n",
    "- Perform the operations on data and store the resulting dataframe in variable q3\n",
    "- Store the independent variables in variable X and the dependent variable in variable y.\n",
    "- Note : Do not perform scaling on column Category"
   ]
  },
  {
   "cell_type": "code",
   "execution_count": 106,
   "id": "fbb1b5be-cfef-469e-bda0-58261ea298a8",
   "metadata": {
    "tags": []
   },
   "outputs": [],
   "source": [
    "Q1 = data['compactness'].quantile(0.25)\n",
    "Q3 = data['compactness'].quantile(0.75)\n",
    "\n",
    "IQR = Q3 - Q1\n",
    "\n",
    "lower_bound = Q1 - 1.5 * IQR\n",
    "higher_bound = Q3 + 1.5 * IQR\n",
    "\n",
    "data = data[(data['compactness'] >= lower_bound) & (data['compactness'] <= higher_bound )]\n"
   ]
  },
  {
   "cell_type": "code",
   "execution_count": 107,
   "id": "3d4aaa10-5f91-4e61-915d-9a6216b8f3b1",
   "metadata": {
    "tags": []
   },
   "outputs": [],
   "source": [
    "Q1 = data['asymmetry coefficient'].quantile(0.25)\n",
    "Q3 = data['asymmetry coefficient'].quantile(0.75)\n",
    "\n",
    "IQR = Q3 - Q1\n",
    "\n",
    "lower_bound = Q1 - 1.5 * IQR\n",
    "higher_bound = Q3 + 1.5 * IQR\n",
    "\n",
    "data = data[(data['asymmetry coefficient'] >= lower_bound) & (data['asymmetry coefficient'] <= higher_bound )]"
   ]
  },
  {
   "cell_type": "code",
   "execution_count": 108,
   "id": "cf55c1a5-3b9c-498d-a2b3-fc07ed28eeb7",
   "metadata": {
    "tags": []
   },
   "outputs": [
    {
     "data": {
      "text/html": [
       "<div>\n",
       "<style scoped>\n",
       "    .dataframe tbody tr th:only-of-type {\n",
       "        vertical-align: middle;\n",
       "    }\n",
       "\n",
       "    .dataframe tbody tr th {\n",
       "        vertical-align: top;\n",
       "    }\n",
       "\n",
       "    .dataframe thead th {\n",
       "        text-align: right;\n",
       "    }\n",
       "</style>\n",
       "<table border=\"1\" class=\"dataframe\">\n",
       "  <thead>\n",
       "    <tr style=\"text-align: right;\">\n",
       "      <th></th>\n",
       "      <th>area</th>\n",
       "      <th>perimeter</th>\n",
       "      <th>compactness</th>\n",
       "      <th>length</th>\n",
       "      <th>width</th>\n",
       "      <th>asymmetry coefficient</th>\n",
       "      <th>groove length</th>\n",
       "      <th>category</th>\n",
       "      <th>scale</th>\n",
       "    </tr>\n",
       "  </thead>\n",
       "  <tbody>\n",
       "    <tr>\n",
       "      <th>0</th>\n",
       "      <td>15.26</td>\n",
       "      <td>14.84</td>\n",
       "      <td>0.8710</td>\n",
       "      <td>5.763</td>\n",
       "      <td>3.312</td>\n",
       "      <td>2.221</td>\n",
       "      <td>5.220</td>\n",
       "      <td>1.0</td>\n",
       "      <td>medium scale</td>\n",
       "    </tr>\n",
       "    <tr>\n",
       "      <th>1</th>\n",
       "      <td>14.88</td>\n",
       "      <td>14.57</td>\n",
       "      <td>0.8811</td>\n",
       "      <td>5.554</td>\n",
       "      <td>3.333</td>\n",
       "      <td>1.018</td>\n",
       "      <td>4.956</td>\n",
       "      <td>1.0</td>\n",
       "      <td>medium scale</td>\n",
       "    </tr>\n",
       "    <tr>\n",
       "      <th>2</th>\n",
       "      <td>14.29</td>\n",
       "      <td>14.09</td>\n",
       "      <td>0.9050</td>\n",
       "      <td>5.291</td>\n",
       "      <td>3.337</td>\n",
       "      <td>2.699</td>\n",
       "      <td>4.825</td>\n",
       "      <td>1.0</td>\n",
       "      <td>medium scale</td>\n",
       "    </tr>\n",
       "    <tr>\n",
       "      <th>3</th>\n",
       "      <td>13.84</td>\n",
       "      <td>13.94</td>\n",
       "      <td>0.8955</td>\n",
       "      <td>5.324</td>\n",
       "      <td>3.379</td>\n",
       "      <td>2.259</td>\n",
       "      <td>4.805</td>\n",
       "      <td>1.0</td>\n",
       "      <td>medium scale</td>\n",
       "    </tr>\n",
       "    <tr>\n",
       "      <th>4</th>\n",
       "      <td>16.14</td>\n",
       "      <td>14.99</td>\n",
       "      <td>0.9034</td>\n",
       "      <td>5.658</td>\n",
       "      <td>3.562</td>\n",
       "      <td>1.355</td>\n",
       "      <td>5.175</td>\n",
       "      <td>1.0</td>\n",
       "      <td>medium scale</td>\n",
       "    </tr>\n",
       "    <tr>\n",
       "      <th>...</th>\n",
       "      <td>...</td>\n",
       "      <td>...</td>\n",
       "      <td>...</td>\n",
       "      <td>...</td>\n",
       "      <td>...</td>\n",
       "      <td>...</td>\n",
       "      <td>...</td>\n",
       "      <td>...</td>\n",
       "      <td>...</td>\n",
       "    </tr>\n",
       "    <tr>\n",
       "      <th>204</th>\n",
       "      <td>12.37</td>\n",
       "      <td>13.47</td>\n",
       "      <td>0.8567</td>\n",
       "      <td>5.204</td>\n",
       "      <td>2.960</td>\n",
       "      <td>3.919</td>\n",
       "      <td>5.001</td>\n",
       "      <td>3.0</td>\n",
       "      <td>medium scale</td>\n",
       "    </tr>\n",
       "    <tr>\n",
       "      <th>205</th>\n",
       "      <td>12.19</td>\n",
       "      <td>13.20</td>\n",
       "      <td>0.8783</td>\n",
       "      <td>5.137</td>\n",
       "      <td>2.981</td>\n",
       "      <td>3.631</td>\n",
       "      <td>4.870</td>\n",
       "      <td>3.0</td>\n",
       "      <td>medium scale</td>\n",
       "    </tr>\n",
       "    <tr>\n",
       "      <th>206</th>\n",
       "      <td>11.23</td>\n",
       "      <td>12.88</td>\n",
       "      <td>0.8511</td>\n",
       "      <td>5.140</td>\n",
       "      <td>2.795</td>\n",
       "      <td>4.325</td>\n",
       "      <td>5.003</td>\n",
       "      <td>3.0</td>\n",
       "      <td>small scale</td>\n",
       "    </tr>\n",
       "    <tr>\n",
       "      <th>208</th>\n",
       "      <td>11.84</td>\n",
       "      <td>13.21</td>\n",
       "      <td>0.8521</td>\n",
       "      <td>5.175</td>\n",
       "      <td>2.836</td>\n",
       "      <td>3.598</td>\n",
       "      <td>5.044</td>\n",
       "      <td>3.0</td>\n",
       "      <td>small scale</td>\n",
       "    </tr>\n",
       "    <tr>\n",
       "      <th>209</th>\n",
       "      <td>12.30</td>\n",
       "      <td>13.34</td>\n",
       "      <td>0.8684</td>\n",
       "      <td>5.243</td>\n",
       "      <td>2.974</td>\n",
       "      <td>5.637</td>\n",
       "      <td>5.063</td>\n",
       "      <td>3.0</td>\n",
       "      <td>medium scale</td>\n",
       "    </tr>\n",
       "  </tbody>\n",
       "</table>\n",
       "<p>205 rows × 9 columns</p>\n",
       "</div>"
      ],
      "text/plain": [
       "      area  perimeter  compactness  length  width  asymmetry coefficient  \\\n",
       "0    15.26      14.84       0.8710   5.763  3.312                  2.221   \n",
       "1    14.88      14.57       0.8811   5.554  3.333                  1.018   \n",
       "2    14.29      14.09       0.9050   5.291  3.337                  2.699   \n",
       "3    13.84      13.94       0.8955   5.324  3.379                  2.259   \n",
       "4    16.14      14.99       0.9034   5.658  3.562                  1.355   \n",
       "..     ...        ...          ...     ...    ...                    ...   \n",
       "204  12.37      13.47       0.8567   5.204  2.960                  3.919   \n",
       "205  12.19      13.20       0.8783   5.137  2.981                  3.631   \n",
       "206  11.23      12.88       0.8511   5.140  2.795                  4.325   \n",
       "208  11.84      13.21       0.8521   5.175  2.836                  3.598   \n",
       "209  12.30      13.34       0.8684   5.243  2.974                  5.637   \n",
       "\n",
       "     groove length  category         scale  \n",
       "0            5.220       1.0  medium scale  \n",
       "1            4.956       1.0  medium scale  \n",
       "2            4.825       1.0  medium scale  \n",
       "3            4.805       1.0  medium scale  \n",
       "4            5.175       1.0  medium scale  \n",
       "..             ...       ...           ...  \n",
       "204          5.001       3.0  medium scale  \n",
       "205          4.870       3.0  medium scale  \n",
       "206          5.003       3.0   small scale  \n",
       "208          5.044       3.0   small scale  \n",
       "209          5.063       3.0  medium scale  \n",
       "\n",
       "[205 rows x 9 columns]"
      ]
     },
     "execution_count": 108,
     "metadata": {},
     "output_type": "execute_result"
    }
   ],
   "source": [
    "data"
   ]
  },
  {
   "cell_type": "code",
   "execution_count": 109,
   "id": "a493d4f2-219d-4640-af28-82a7f93fb35b",
   "metadata": {
    "tags": []
   },
   "outputs": [],
   "source": [
    "np.random.seed(10)\n",
    "from sklearn.preprocessing import LabelEncoder, StandardScaler\n",
    "le = LabelEncoder()\n",
    "data['scale']= le.fit_transform(data['scale'])"
   ]
  },
  {
   "cell_type": "code",
   "execution_count": 110,
   "id": "e29d506b-0692-495f-a184-9c4bb1a850a5",
   "metadata": {
    "tags": []
   },
   "outputs": [],
   "source": [
    "y = data['category']\n",
    "ss = StandardScaler()\n",
    "X = ss.fit_transform(data.drop('category', axis=1))\n",
    "data = pd.DataFrame(ss.fit_transform(data.drop('category', axis=1)), columns= ss.get_feature_names_out())\n",
    "data['category'] = y"
   ]
  },
  {
   "cell_type": "code",
   "execution_count": 111,
   "id": "9e0a7e19-1e86-44b4-bd08-94f7cfed7ecb",
   "metadata": {
    "tags": []
   },
   "outputs": [
    {
     "data": {
      "text/html": [
       "<div>\n",
       "<style scoped>\n",
       "    .dataframe tbody tr th:only-of-type {\n",
       "        vertical-align: middle;\n",
       "    }\n",
       "\n",
       "    .dataframe tbody tr th {\n",
       "        vertical-align: top;\n",
       "    }\n",
       "\n",
       "    .dataframe thead th {\n",
       "        text-align: right;\n",
       "    }\n",
       "</style>\n",
       "<table border=\"1\" class=\"dataframe\">\n",
       "  <thead>\n",
       "    <tr style=\"text-align: right;\">\n",
       "      <th></th>\n",
       "      <th>area</th>\n",
       "      <th>perimeter</th>\n",
       "      <th>compactness</th>\n",
       "      <th>length</th>\n",
       "      <th>width</th>\n",
       "      <th>asymmetry coefficient</th>\n",
       "      <th>groove length</th>\n",
       "      <th>scale</th>\n",
       "      <th>category</th>\n",
       "    </tr>\n",
       "  </thead>\n",
       "  <tbody>\n",
       "    <tr>\n",
       "      <th>0</th>\n",
       "      <td>0.119170</td>\n",
       "      <td>0.194283</td>\n",
       "      <td>-0.033032</td>\n",
       "      <td>0.285057</td>\n",
       "      <td>0.117674</td>\n",
       "      <td>-0.985770</td>\n",
       "      <td>-0.392994</td>\n",
       "      <td>0.138927</td>\n",
       "      <td>1.0</td>\n",
       "    </tr>\n",
       "    <tr>\n",
       "      <th>1</th>\n",
       "      <td>-0.011710</td>\n",
       "      <td>-0.012397</td>\n",
       "      <td>0.414569</td>\n",
       "      <td>-0.185444</td>\n",
       "      <td>0.173712</td>\n",
       "      <td>-1.822389</td>\n",
       "      <td>-0.927065</td>\n",
       "      <td>0.138927</td>\n",
       "      <td>1.0</td>\n",
       "    </tr>\n",
       "    <tr>\n",
       "      <th>2</th>\n",
       "      <td>-0.214919</td>\n",
       "      <td>-0.379828</td>\n",
       "      <td>1.473743</td>\n",
       "      <td>-0.777510</td>\n",
       "      <td>0.184386</td>\n",
       "      <td>-0.653348</td>\n",
       "      <td>-1.192077</td>\n",
       "      <td>0.138927</td>\n",
       "      <td>1.0</td>\n",
       "    </tr>\n",
       "    <tr>\n",
       "      <th>3</th>\n",
       "      <td>-0.369909</td>\n",
       "      <td>-0.494651</td>\n",
       "      <td>1.052732</td>\n",
       "      <td>-0.703220</td>\n",
       "      <td>0.296462</td>\n",
       "      <td>-0.959343</td>\n",
       "      <td>-1.232537</td>\n",
       "      <td>0.138927</td>\n",
       "      <td>1.0</td>\n",
       "    </tr>\n",
       "    <tr>\n",
       "      <th>4</th>\n",
       "      <td>0.422261</td>\n",
       "      <td>0.309105</td>\n",
       "      <td>1.402836</td>\n",
       "      <td>0.048681</td>\n",
       "      <td>0.784796</td>\n",
       "      <td>-1.588024</td>\n",
       "      <td>-0.484029</td>\n",
       "      <td>0.138927</td>\n",
       "      <td>1.0</td>\n",
       "    </tr>\n",
       "    <tr>\n",
       "      <th>...</th>\n",
       "      <td>...</td>\n",
       "      <td>...</td>\n",
       "      <td>...</td>\n",
       "      <td>...</td>\n",
       "      <td>...</td>\n",
       "      <td>...</td>\n",
       "      <td>...</td>\n",
       "      <td>...</td>\n",
       "      <td>...</td>\n",
       "    </tr>\n",
       "    <tr>\n",
       "      <th>200</th>\n",
       "      <td>-0.876209</td>\n",
       "      <td>-0.854427</td>\n",
       "      <td>-0.666764</td>\n",
       "      <td>-0.973364</td>\n",
       "      <td>-0.821634</td>\n",
       "      <td>0.195093</td>\n",
       "      <td>-0.836030</td>\n",
       "      <td>0.138927</td>\n",
       "      <td>3.0</td>\n",
       "    </tr>\n",
       "    <tr>\n",
       "      <th>201</th>\n",
       "      <td>-0.938205</td>\n",
       "      <td>-1.061107</td>\n",
       "      <td>0.290481</td>\n",
       "      <td>-1.124194</td>\n",
       "      <td>-0.765595</td>\n",
       "      <td>-0.005194</td>\n",
       "      <td>-1.101042</td>\n",
       "      <td>0.138927</td>\n",
       "      <td>3.0</td>\n",
       "    </tr>\n",
       "    <tr>\n",
       "      <th>202</th>\n",
       "      <td>-1.268850</td>\n",
       "      <td>-1.306061</td>\n",
       "      <td>-0.914939</td>\n",
       "      <td>-1.117441</td>\n",
       "      <td>-1.261934</td>\n",
       "      <td>0.477443</td>\n",
       "      <td>-0.831984</td>\n",
       "      <td>1.637875</td>\n",
       "      <td>3.0</td>\n",
       "    </tr>\n",
       "    <tr>\n",
       "      <th>203</th>\n",
       "      <td>-1.058753</td>\n",
       "      <td>-1.053452</td>\n",
       "      <td>-0.870622</td>\n",
       "      <td>-1.038649</td>\n",
       "      <td>-1.152526</td>\n",
       "      <td>-0.028144</td>\n",
       "      <td>-0.749041</td>\n",
       "      <td>1.637875</td>\n",
       "      <td>NaN</td>\n",
       "    </tr>\n",
       "    <tr>\n",
       "      <th>204</th>\n",
       "      <td>-0.900319</td>\n",
       "      <td>-0.953940</td>\n",
       "      <td>-0.148256</td>\n",
       "      <td>-0.885567</td>\n",
       "      <td>-0.784275</td>\n",
       "      <td>1.389865</td>\n",
       "      <td>-0.710604</td>\n",
       "      <td>0.138927</td>\n",
       "      <td>3.0</td>\n",
       "    </tr>\n",
       "  </tbody>\n",
       "</table>\n",
       "<p>205 rows × 9 columns</p>\n",
       "</div>"
      ],
      "text/plain": [
       "         area  perimeter  compactness    length     width  \\\n",
       "0    0.119170   0.194283    -0.033032  0.285057  0.117674   \n",
       "1   -0.011710  -0.012397     0.414569 -0.185444  0.173712   \n",
       "2   -0.214919  -0.379828     1.473743 -0.777510  0.184386   \n",
       "3   -0.369909  -0.494651     1.052732 -0.703220  0.296462   \n",
       "4    0.422261   0.309105     1.402836  0.048681  0.784796   \n",
       "..        ...        ...          ...       ...       ...   \n",
       "200 -0.876209  -0.854427    -0.666764 -0.973364 -0.821634   \n",
       "201 -0.938205  -1.061107     0.290481 -1.124194 -0.765595   \n",
       "202 -1.268850  -1.306061    -0.914939 -1.117441 -1.261934   \n",
       "203 -1.058753  -1.053452    -0.870622 -1.038649 -1.152526   \n",
       "204 -0.900319  -0.953940    -0.148256 -0.885567 -0.784275   \n",
       "\n",
       "     asymmetry coefficient  groove length     scale  category  \n",
       "0                -0.985770      -0.392994  0.138927       1.0  \n",
       "1                -1.822389      -0.927065  0.138927       1.0  \n",
       "2                -0.653348      -1.192077  0.138927       1.0  \n",
       "3                -0.959343      -1.232537  0.138927       1.0  \n",
       "4                -1.588024      -0.484029  0.138927       1.0  \n",
       "..                     ...            ...       ...       ...  \n",
       "200               0.195093      -0.836030  0.138927       3.0  \n",
       "201              -0.005194      -1.101042  0.138927       3.0  \n",
       "202               0.477443      -0.831984  1.637875       3.0  \n",
       "203              -0.028144      -0.749041  1.637875       NaN  \n",
       "204               1.389865      -0.710604  0.138927       3.0  \n",
       "\n",
       "[205 rows x 9 columns]"
      ]
     },
     "execution_count": 111,
     "metadata": {},
     "output_type": "execute_result"
    }
   ],
   "source": [
    "data"
   ]
  },
  {
   "cell_type": "code",
   "execution_count": null,
   "id": "38c97966-6d2f-423b-b4c1-32047ba4a8ee",
   "metadata": {
    "tags": []
   },
   "outputs": [],
   "source": [
    "\n"
   ]
  },
  {
   "cell_type": "markdown",
   "id": "8da7f043-9043-4bec-9e1d-85d1e32b93d8",
   "metadata": {
    "tags": []
   },
   "source": [
    "**Run the below cell to save q4**"
   ]
  },
  {
   "cell_type": "code",
   "execution_count": 112,
   "id": "eaf5434c-520b-440b-be84-d258545e5029",
   "metadata": {
    "tags": []
   },
   "outputs": [
    {
     "name": "stdout",
     "output_type": "stream",
     "text": [
      "Test case 4 Passed\n"
     ]
    }
   ],
   "source": [
    "try:\n",
    "    q4 = [data,X,y]\n",
    "    test_wings_wheat.save_answer_q4(q4)\n",
    "except:\n",
    "    print(\"Please check variable q4\")"
   ]
  },
  {
   "cell_type": "markdown",
   "id": "e018cc65-a8c9-4c34-b1a3-dec550efbb60",
   "metadata": {},
   "source": [
    "\n",
    "### The objective of this task is to perform a train-test split on a data\n",
    "\n",
    "- Split the preprocessed dataset into two subsets: a training set and a testing set. \n",
    "\n",
    "- Allocate 70% percentage to the training set and the remaining 30% to the testing set.\n",
    "\n",
    "- Run the below cell to perform train test split\n"
   ]
  },
  {
   "cell_type": "code",
   "execution_count": 113,
   "id": "beccca24-e685-4609-bcf9-625e332468d7",
   "metadata": {
    "tags": []
   },
   "outputs": [],
   "source": [
    "\n",
    "from sklearn.model_selection import train_test_split\n",
    "\n",
    "X_train, X_test, y_train, y_test = train_test_split(X, y, test_size=0.3, random_state=42)"
   ]
  },
  {
   "cell_type": "markdown",
   "id": "b877af32-a21e-4188-8b42-ed35792019ab",
   "metadata": {},
   "source": [
    "# Task -4 Model Building"
   ]
  },
  {
   "cell_type": "markdown",
   "id": "5cf00630-0139-41a7-a096-dce172922aa9",
   "metadata": {},
   "source": [
    "## Question 5\n",
    "\n",
    "### Model Training - Logistic regression\n",
    "\n",
    "The objective of this task is to build a logistic regression model for predicting a target variable based on a set of independent variables.\n",
    "\n",
    "- Fit the logistic regression model to the training data (X_train and y_train) .\n",
    "- Use the trained model to predict the target variable for the test dataset (X_test). Store the predicted values in a variable called y_pred_log.\n",
    "- Print the confusionm matrix .\n",
    "- Print the classification report.\n",
    "- Store the model in variable model_1\n",
    "- Store the confusion matrix in variable log_cm\n",
    "- Store the classification report in variable log_cl\n",
    "- Type of log_cl - Dict\n",
    "- Set random_state to 25 to ensure reproducability"
   ]
  },
  {
   "cell_type": "code",
   "execution_count": 114,
   "id": "d3180f19-88a4-44e2-aad2-4260c3d06c1b",
   "metadata": {
    "tags": []
   },
   "outputs": [],
   "source": [
    "#Enter code below\n",
    "\n",
    "from sklearn.linear_model import LogisticRegression\n",
    "from sklearn.metrics import classification_report,confusion_matrix\n",
    "\n",
    "model_1 = LogisticRegression(random_state=25)\n",
    "model_1.fit(X_train,y_train)\n",
    "\n",
    "y_pred_log = model_1.predict(X_test)\n",
    "\n",
    "log_cm = confusion_matrix(y_test,y_pred_log)\n",
    "log_cl = classification_report(y_test,y_pred_log,output_dict=True)\n",
    "\n",
    "#End"
   ]
  },
  {
   "cell_type": "markdown",
   "id": "69c73cf8-d516-4370-8576-e106baf4f3d1",
   "metadata": {},
   "source": [
    "**Run the below cell to save q5**"
   ]
  },
  {
   "cell_type": "code",
   "execution_count": 115,
   "id": "84c86e2d-56f5-4216-9cd1-3be395733721",
   "metadata": {
    "tags": []
   },
   "outputs": [
    {
     "name": "stdout",
     "output_type": "stream",
     "text": [
      "Test case 5 Passed\n"
     ]
    }
   ],
   "source": [
    "try:\n",
    "    q5 = [model_1,y_pred_log,log_cm,log_cl]\n",
    "    test_wings_wheat.save_answer_q5(q5)\n",
    "except:\n",
    "    print(\"Please check variable q5\")"
   ]
  },
  {
   "cell_type": "markdown",
   "id": "4e143565-6504-4a1f-84cf-5a4036956cf8",
   "metadata": {
    "tags": []
   },
   "source": [
    "## Question 6\n",
    "\n",
    "### Model Training - Random Forest Classifier\n",
    "\n",
    "The objective of this task is to build a Random Forest Classifier for predicting a target variable based on a set of independent variables. \n",
    "\n",
    "- Fit the Random Forest Classifier to the training data (X_train and y_train)\n",
    "- Use the trained model to predict the target variable for the test dataset (X_test). Store the predicted values in a variable called y_pred_forest.\n",
    "- Calculate the confusion matrix,classification report\n",
    "- Store the model in variable model_2\n",
    "- Store the confusion matrix in variable rfc_cm\n",
    "- Store the classification report in variable rfc_cl\n",
    "- Type of rfc_cl - Dict\n",
    "- Set random_state to 42 to ensure reproducability"
   ]
  },
  {
   "cell_type": "code",
   "execution_count": 116,
   "id": "55f9a038-7676-4af7-9f4c-cdf074f5e70b",
   "metadata": {
    "tags": []
   },
   "outputs": [],
   "source": [
    "#Enter code below\n",
    "from sklearn.ensemble import RandomForestClassifier\n",
    "\n",
    "\n",
    "model_2 =  RandomForestClassifier(random_state=42)\n",
    "model_2.fit(X_train,y_train)\n",
    "y_pred_rfc = model_2.predict(X_test)\n",
    "rfc_cm = confusion_matrix(y_test,y_pred_rfc)\n",
    "rfc_cl = classification_report(y_test,y_pred_rfc,output_dict=True)\n",
    "\n",
    "\n",
    "#End"
   ]
  },
  {
   "cell_type": "markdown",
   "id": "ea731e7c-bacf-4ecd-95d7-bc435b922c79",
   "metadata": {},
   "source": [
    "**Run the below cell to save q6**"
   ]
  },
  {
   "cell_type": "code",
   "execution_count": 117,
   "id": "04b3ea33-8371-406e-814e-226f43a61d94",
   "metadata": {
    "tags": []
   },
   "outputs": [
    {
     "name": "stdout",
     "output_type": "stream",
     "text": [
      "Test Case 6 Passed\n"
     ]
    }
   ],
   "source": [
    "try:\n",
    "    q6 = [model_2,y_pred_rfc,rfc_cm,rfc_cl]\n",
    "    test_wings_wheat.save_answer_q6(q6)\n",
    "except:\n",
    "    print(\"Please check variable q6\")"
   ]
  },
  {
   "cell_type": "markdown",
   "id": "40f0f93b-e250-4e2f-adc5-15b889fe99ba",
   "metadata": {},
   "source": [
    "## Question 7\n",
    "\n",
    "### Model Training - GradientBoostingClassifier\n",
    "\n",
    "The objective of this  task is to build a Gradient Boosting Classifier for predicting a target variable based on a set of independent variables\n",
    "\n",
    "- Fit the Gradient Boosting Classifier to the training data (X_train and y_train)\n",
    "- Use the trained model to predict the target variable for the test dataset (X_test). Store the predicted values in a variable called y_pred_gbc.\n",
    "- Evaluate the model using confusion matrix and generate the classification report\n",
    "- Store the model in variable model_3\n",
    "- Store the confusion matrix in variable gbc_cm\n",
    "- Store the classification report in variable gbc_cl\n",
    "- Type of gbc_cl - Dict\n",
    "- Set random_state to 42 to ensure reproducability"
   ]
  },
  {
   "cell_type": "code",
   "execution_count": 118,
   "id": "31b5bd9c-5b58-4779-ab9c-d42406ca4aef",
   "metadata": {
    "tags": []
   },
   "outputs": [],
   "source": [
    "#Enter code below\n",
    "from sklearn.ensemble import GradientBoostingClassifier\n",
    "\n",
    "model_3 = GradientBoostingClassifier(random_state=42)\n",
    "model_3.fit(X_train,y_train)\n",
    "y_pred_gbc = model_3.predict(X_test)\n",
    "\n",
    "gbc_cm = confusion_matrix(y_test,y_pred_gbc)\n",
    "\n",
    "gbc_cl = classification_report(y_test,y_pred_gbc,output_dict=True)\n",
    "\n",
    "#End"
   ]
  },
  {
   "cell_type": "markdown",
   "id": "bab0d461-1577-4c4b-b1e6-8aa25373089d",
   "metadata": {},
   "source": [
    "**Run the below cell to save q7**"
   ]
  },
  {
   "cell_type": "code",
   "execution_count": 119,
   "id": "908c802d-99b0-4ea6-a548-2b1358a55183",
   "metadata": {
    "tags": []
   },
   "outputs": [
    {
     "name": "stdout",
     "output_type": "stream",
     "text": [
      "Test Case 7 Passed\n"
     ]
    }
   ],
   "source": [
    "try:\n",
    "    q7 = [model_3,y_pred_gbc,gbc_cm,gbc_cl]\n",
    "    test_wings_wheat.save_answer_q7(q7)\n",
    "except:\n",
    "    print(\"Please check variable q7\")"
   ]
  },
  {
   "cell_type": "code",
   "execution_count": 120,
   "id": "18649c2f-f866-4e8a-8674-6b28a3d83559",
   "metadata": {
    "tags": []
   },
   "outputs": [
    {
     "data": {
      "text/plain": [
       "{'1.0': {'precision': 0.95,\n",
       "  'recall': 0.95,\n",
       "  'f1-score': 0.9500000000000001,\n",
       "  'support': 20},\n",
       " '2.0': {'precision': 1.0, 'recall': 1.0, 'f1-score': 1.0, 'support': 21},\n",
       " '3.0': {'precision': 0.9523809523809523,\n",
       "  'recall': 0.9523809523809523,\n",
       "  'f1-score': 0.9523809523809523,\n",
       "  'support': 21},\n",
       " 'accuracy': 0.967741935483871,\n",
       " 'macro avg': {'precision': 0.9674603174603175,\n",
       "  'recall': 0.9674603174603175,\n",
       "  'f1-score': 0.9674603174603176,\n",
       "  'support': 62},\n",
       " 'weighted avg': {'precision': 0.967741935483871,\n",
       "  'recall': 0.967741935483871,\n",
       "  'f1-score': 0.967741935483871,\n",
       "  'support': 62}}"
      ]
     },
     "execution_count": 120,
     "metadata": {},
     "output_type": "execute_result"
    }
   ],
   "source": [
    "gbc_cl\n"
   ]
  },
  {
   "cell_type": "markdown",
   "id": "5bff3ede-4cb9-44df-90cd-edb4eb4fb137",
   "metadata": {},
   "source": [
    "## Question 8\n",
    "\n",
    "**Select the best model from the options given below**\n",
    "\n",
    "- Run the below cell to display the options"
   ]
  },
  {
   "cell_type": "code",
   "execution_count": 121,
   "id": "d82671e9-6e88-43d5-b35a-42e792051c4e",
   "metadata": {
    "tags": []
   },
   "outputs": [
    {
     "data": {
      "application/vnd.jupyter.widget-view+json": {
       "model_id": "771173720cc24c9b9f3523b643453a71",
       "version_major": 2,
       "version_minor": 0
      },
      "text/plain": [
       "RadioButtons(description='Select the best model from the options', options=('Logistic regression', 'Random For…"
      ]
     },
     "metadata": {},
     "output_type": "display_data"
    }
   ],
   "source": [
    "import ipywidgets as widgets\n",
    "best_model = widgets.RadioButtons(\n",
    "    options=['Logistic regression','Random Forest Classifier','GradientBoostingClassifier'],\n",
    "    description='Select the best model from the options',\n",
    "    value=None,\n",
    "    disabled=False\n",
    ")\n",
    "display(best_model)"
   ]
  },
  {
   "cell_type": "markdown",
   "id": "db4d5fe2-6583-4008-9f3b-e1a9ba0c1121",
   "metadata": {},
   "source": [
    "**Run the below cell to save q8**"
   ]
  },
  {
   "cell_type": "code",
   "execution_count": 122,
   "id": "57ec0dcf-015d-4b64-936b-e1db0b3315a7",
   "metadata": {
    "tags": []
   },
   "outputs": [
    {
     "name": "stdout",
     "output_type": "stream",
     "text": [
      "q8 Saved Successfully\n"
     ]
    }
   ],
   "source": [
    "try:\n",
    "    q8 = best_model\n",
    "    test_wings_wheat.save_answer_q8(q8)\n",
    "except:\n",
    "    print(\"Please select the option\")"
   ]
  },
  {
   "cell_type": "markdown",
   "id": "231364a7-8e64-41d5-b2ee-2630a551d27d",
   "metadata": {},
   "source": [
    "# Task - 5 Model Optimization"
   ]
  },
  {
   "cell_type": "markdown",
   "id": "4b9ec197-f0fa-4609-92e2-01711b50b5cd",
   "metadata": {},
   "source": [
    "## Question 9 - Model Optimization\n",
    "\n",
    "### The objective of this task is to optimize the performance of a Gradient Boosting Classifier by tuning its hyperparameters using grid search.\n",
    "\n",
    "\n",
    "- This grid contain different values for the learning rate, number of estimators, and maximum depth. \n",
    "- Hyperparameter Grid: 'learning_rate': [0.01, 0.1, 0.12],\n",
    "                       'n_estimators': [100, 200, 300],\n",
    "                       'max_depth': [3, 5, 7]\n",
    "                     \n",
    "- Store the grid search object in variable grid_search\n",
    "- Fit the Gradient Boosting Classifier to the training dataset and evaluate each combination of hyperparameters using 5 fold cross-validation.\n",
    "- Identify the best combination of hyperparameters that yields the highest performance based on the chosen evaluation metric - accuracy.\n",
    "- Store the best combination in variable grid_search_best"
   ]
  },
  {
   "cell_type": "code",
   "execution_count": 123,
   "id": "396fd5bd-998d-4253-8f5d-2e2dc42fd74a",
   "metadata": {
    "tags": []
   },
   "outputs": [
    {
     "name": "stdout",
     "output_type": "stream",
     "text": [
      "Fitting 5 folds for each of 27 candidates, totalling 135 fits\n",
      "[CV] END ..learning_rate=0.01, max_depth=3, n_estimators=100; total time=   0.4s\n",
      "[CV] END ..learning_rate=0.01, max_depth=3, n_estimators=100; total time=   0.3s\n",
      "[CV] END ..learning_rate=0.01, max_depth=3, n_estimators=100; total time=   0.3s\n",
      "[CV] END ..learning_rate=0.01, max_depth=3, n_estimators=100; total time=   0.3s\n",
      "[CV] END ..learning_rate=0.01, max_depth=3, n_estimators=100; total time=   0.3s\n",
      "[CV] END ..learning_rate=0.01, max_depth=3, n_estimators=200; total time=   0.7s\n",
      "[CV] END ..learning_rate=0.01, max_depth=3, n_estimators=200; total time=   0.7s\n",
      "[CV] END ..learning_rate=0.01, max_depth=3, n_estimators=200; total time=   0.7s\n",
      "[CV] END ..learning_rate=0.01, max_depth=3, n_estimators=200; total time=   0.7s\n",
      "[CV] END ..learning_rate=0.01, max_depth=3, n_estimators=200; total time=   0.7s\n",
      "[CV] END ..learning_rate=0.01, max_depth=3, n_estimators=300; total time=   1.0s\n",
      "[CV] END ..learning_rate=0.01, max_depth=3, n_estimators=300; total time=   1.1s\n",
      "[CV] END ..learning_rate=0.01, max_depth=3, n_estimators=300; total time=   1.0s\n",
      "[CV] END ..learning_rate=0.01, max_depth=3, n_estimators=300; total time=   1.0s\n",
      "[CV] END ..learning_rate=0.01, max_depth=3, n_estimators=300; total time=   1.0s\n",
      "[CV] END ..learning_rate=0.01, max_depth=5, n_estimators=100; total time=   0.4s\n",
      "[CV] END ..learning_rate=0.01, max_depth=5, n_estimators=100; total time=   0.4s\n",
      "[CV] END ..learning_rate=0.01, max_depth=5, n_estimators=100; total time=   0.5s\n",
      "[CV] END ..learning_rate=0.01, max_depth=5, n_estimators=100; total time=   0.3s\n",
      "[CV] END ..learning_rate=0.01, max_depth=5, n_estimators=100; total time=   0.5s\n",
      "[CV] END ..learning_rate=0.01, max_depth=5, n_estimators=200; total time=   0.8s\n",
      "[CV] END ..learning_rate=0.01, max_depth=5, n_estimators=200; total time=   0.8s\n",
      "[CV] END ..learning_rate=0.01, max_depth=5, n_estimators=200; total time=   1.1s\n",
      "[CV] END ..learning_rate=0.01, max_depth=5, n_estimators=200; total time=   0.7s\n",
      "[CV] END ..learning_rate=0.01, max_depth=5, n_estimators=200; total time=   1.0s\n",
      "[CV] END ..learning_rate=0.01, max_depth=5, n_estimators=300; total time=   1.3s\n",
      "[CV] END ..learning_rate=0.01, max_depth=5, n_estimators=300; total time=   1.2s\n",
      "[CV] END ..learning_rate=0.01, max_depth=5, n_estimators=300; total time=   1.5s\n",
      "[CV] END ..learning_rate=0.01, max_depth=5, n_estimators=300; total time=   1.0s\n",
      "[CV] END ..learning_rate=0.01, max_depth=5, n_estimators=300; total time=   1.3s\n",
      "[CV] END ..learning_rate=0.01, max_depth=7, n_estimators=100; total time=   0.4s\n",
      "[CV] END ..learning_rate=0.01, max_depth=7, n_estimators=100; total time=   0.4s\n",
      "[CV] END ..learning_rate=0.01, max_depth=7, n_estimators=100; total time=   0.4s\n",
      "[CV] END ..learning_rate=0.01, max_depth=7, n_estimators=100; total time=   0.4s\n",
      "[CV] END ..learning_rate=0.01, max_depth=7, n_estimators=100; total time=   0.5s\n",
      "[CV] END ..learning_rate=0.01, max_depth=7, n_estimators=200; total time=   0.9s\n",
      "[CV] END ..learning_rate=0.01, max_depth=7, n_estimators=200; total time=   0.8s\n",
      "[CV] END ..learning_rate=0.01, max_depth=7, n_estimators=200; total time=   0.8s\n",
      "[CV] END ..learning_rate=0.01, max_depth=7, n_estimators=200; total time=   0.7s\n",
      "[CV] END ..learning_rate=0.01, max_depth=7, n_estimators=200; total time=   0.9s\n",
      "[CV] END ..learning_rate=0.01, max_depth=7, n_estimators=300; total time=   1.2s\n",
      "[CV] END ..learning_rate=0.01, max_depth=7, n_estimators=300; total time=   1.2s\n",
      "[CV] END ..learning_rate=0.01, max_depth=7, n_estimators=300; total time=   1.2s\n",
      "[CV] END ..learning_rate=0.01, max_depth=7, n_estimators=300; total time=   1.0s\n",
      "[CV] END ..learning_rate=0.01, max_depth=7, n_estimators=300; total time=   1.4s\n",
      "[CV] END ...learning_rate=0.1, max_depth=3, n_estimators=100; total time=   0.3s\n",
      "[CV] END ...learning_rate=0.1, max_depth=3, n_estimators=100; total time=   0.3s\n",
      "[CV] END ...learning_rate=0.1, max_depth=3, n_estimators=100; total time=   0.3s\n",
      "[CV] END ...learning_rate=0.1, max_depth=3, n_estimators=100; total time=   0.4s\n",
      "[CV] END ...learning_rate=0.1, max_depth=3, n_estimators=100; total time=   0.3s\n",
      "[CV] END ...learning_rate=0.1, max_depth=3, n_estimators=200; total time=   0.7s\n",
      "[CV] END ...learning_rate=0.1, max_depth=3, n_estimators=200; total time=   0.6s\n",
      "[CV] END ...learning_rate=0.1, max_depth=3, n_estimators=200; total time=   0.7s\n",
      "[CV] END ...learning_rate=0.1, max_depth=3, n_estimators=200; total time=   0.6s\n",
      "[CV] END ...learning_rate=0.1, max_depth=3, n_estimators=200; total time=   0.7s\n",
      "[CV] END ...learning_rate=0.1, max_depth=3, n_estimators=300; total time=   0.9s\n",
      "[CV] END ...learning_rate=0.1, max_depth=3, n_estimators=300; total time=   0.8s\n",
      "[CV] END ...learning_rate=0.1, max_depth=3, n_estimators=300; total time=   0.9s\n",
      "[CV] END ...learning_rate=0.1, max_depth=3, n_estimators=300; total time=   0.8s\n",
      "[CV] END ...learning_rate=0.1, max_depth=3, n_estimators=300; total time=   1.0s\n",
      "[CV] END ...learning_rate=0.1, max_depth=5, n_estimators=100; total time=   0.4s\n",
      "[CV] END ...learning_rate=0.1, max_depth=5, n_estimators=100; total time=   0.4s\n",
      "[CV] END ...learning_rate=0.1, max_depth=5, n_estimators=100; total time=   0.5s\n",
      "[CV] END ...learning_rate=0.1, max_depth=5, n_estimators=100; total time=   0.3s\n",
      "[CV] END ...learning_rate=0.1, max_depth=5, n_estimators=100; total time=   0.4s\n",
      "[CV] END ...learning_rate=0.1, max_depth=5, n_estimators=200; total time=   0.6s\n",
      "[CV] END ...learning_rate=0.1, max_depth=5, n_estimators=200; total time=   0.6s\n",
      "[CV] END ...learning_rate=0.1, max_depth=5, n_estimators=200; total time=   0.7s\n",
      "[CV] END ...learning_rate=0.1, max_depth=5, n_estimators=200; total time=   0.5s\n",
      "[CV] END ...learning_rate=0.1, max_depth=5, n_estimators=200; total time=   0.7s\n",
      "[CV] END ...learning_rate=0.1, max_depth=5, n_estimators=300; total time=   0.8s\n",
      "[CV] END ...learning_rate=0.1, max_depth=5, n_estimators=300; total time=   0.8s\n",
      "[CV] END ...learning_rate=0.1, max_depth=5, n_estimators=300; total time=   1.0s\n",
      "[CV] END ...learning_rate=0.1, max_depth=5, n_estimators=300; total time=   0.7s\n",
      "[CV] END ...learning_rate=0.1, max_depth=5, n_estimators=300; total time=   0.9s\n",
      "[CV] END ...learning_rate=0.1, max_depth=7, n_estimators=100; total time=   0.4s\n",
      "[CV] END ...learning_rate=0.1, max_depth=7, n_estimators=100; total time=   0.4s\n",
      "[CV] END ...learning_rate=0.1, max_depth=7, n_estimators=100; total time=   0.4s\n",
      "[CV] END ...learning_rate=0.1, max_depth=7, n_estimators=100; total time=   0.3s\n",
      "[CV] END ...learning_rate=0.1, max_depth=7, n_estimators=100; total time=   0.5s\n",
      "[CV] END ...learning_rate=0.1, max_depth=7, n_estimators=200; total time=   0.6s\n",
      "[CV] END ...learning_rate=0.1, max_depth=7, n_estimators=200; total time=   0.6s\n",
      "[CV] END ...learning_rate=0.1, max_depth=7, n_estimators=200; total time=   0.6s\n",
      "[CV] END ...learning_rate=0.1, max_depth=7, n_estimators=200; total time=   0.5s\n",
      "[CV] END ...learning_rate=0.1, max_depth=7, n_estimators=200; total time=   0.7s\n",
      "[CV] END ...learning_rate=0.1, max_depth=7, n_estimators=300; total time=   0.9s\n",
      "[CV] END ...learning_rate=0.1, max_depth=7, n_estimators=300; total time=   0.8s\n",
      "[CV] END ...learning_rate=0.1, max_depth=7, n_estimators=300; total time=   0.8s\n",
      "[CV] END ...learning_rate=0.1, max_depth=7, n_estimators=300; total time=   0.7s\n",
      "[CV] END ...learning_rate=0.1, max_depth=7, n_estimators=300; total time=   0.9s\n",
      "[CV] END ..learning_rate=0.12, max_depth=3, n_estimators=100; total time=   0.3s\n",
      "[CV] END ..learning_rate=0.12, max_depth=3, n_estimators=100; total time=   0.3s\n",
      "[CV] END ..learning_rate=0.12, max_depth=3, n_estimators=100; total time=   0.3s\n",
      "[CV] END ..learning_rate=0.12, max_depth=3, n_estimators=100; total time=   0.3s\n",
      "[CV] END ..learning_rate=0.12, max_depth=3, n_estimators=100; total time=   0.3s\n",
      "[CV] END ..learning_rate=0.12, max_depth=3, n_estimators=200; total time=   0.6s\n",
      "[CV] END ..learning_rate=0.12, max_depth=3, n_estimators=200; total time=   0.6s\n",
      "[CV] END ..learning_rate=0.12, max_depth=3, n_estimators=200; total time=   0.7s\n",
      "[CV] END ..learning_rate=0.12, max_depth=3, n_estimators=200; total time=   0.6s\n",
      "[CV] END ..learning_rate=0.12, max_depth=3, n_estimators=200; total time=   0.7s\n",
      "[CV] END ..learning_rate=0.12, max_depth=3, n_estimators=300; total time=   0.9s\n",
      "[CV] END ..learning_rate=0.12, max_depth=3, n_estimators=300; total time=   0.9s\n",
      "[CV] END ..learning_rate=0.12, max_depth=3, n_estimators=300; total time=   0.8s\n",
      "[CV] END ..learning_rate=0.12, max_depth=3, n_estimators=300; total time=   0.8s\n",
      "[CV] END ..learning_rate=0.12, max_depth=3, n_estimators=300; total time=   0.9s\n",
      "[CV] END ..learning_rate=0.12, max_depth=5, n_estimators=100; total time=   0.4s\n",
      "[CV] END ..learning_rate=0.12, max_depth=5, n_estimators=100; total time=   0.4s\n",
      "[CV] END ..learning_rate=0.12, max_depth=5, n_estimators=100; total time=   0.5s\n",
      "[CV] END ..learning_rate=0.12, max_depth=5, n_estimators=100; total time=   0.3s\n",
      "[CV] END ..learning_rate=0.12, max_depth=5, n_estimators=100; total time=   0.4s\n",
      "[CV] END ..learning_rate=0.12, max_depth=5, n_estimators=200; total time=   0.6s\n",
      "[CV] END ..learning_rate=0.12, max_depth=5, n_estimators=200; total time=   0.6s\n",
      "[CV] END ..learning_rate=0.12, max_depth=5, n_estimators=200; total time=   0.7s\n",
      "[CV] END ..learning_rate=0.12, max_depth=5, n_estimators=200; total time=   0.5s\n",
      "[CV] END ..learning_rate=0.12, max_depth=5, n_estimators=200; total time=   0.6s\n",
      "[CV] END ..learning_rate=0.12, max_depth=5, n_estimators=300; total time=   0.8s\n",
      "[CV] END ..learning_rate=0.12, max_depth=5, n_estimators=300; total time=   0.8s\n",
      "[CV] END ..learning_rate=0.12, max_depth=5, n_estimators=300; total time=   0.8s\n",
      "[CV] END ..learning_rate=0.12, max_depth=5, n_estimators=300; total time=   0.7s\n",
      "[CV] END ..learning_rate=0.12, max_depth=5, n_estimators=300; total time=   0.8s\n",
      "[CV] END ..learning_rate=0.12, max_depth=7, n_estimators=100; total time=   0.4s\n",
      "[CV] END ..learning_rate=0.12, max_depth=7, n_estimators=100; total time=   0.4s\n",
      "[CV] END ..learning_rate=0.12, max_depth=7, n_estimators=100; total time=   0.4s\n",
      "[CV] END ..learning_rate=0.12, max_depth=7, n_estimators=100; total time=   0.4s\n",
      "[CV] END ..learning_rate=0.12, max_depth=7, n_estimators=100; total time=   0.5s\n",
      "[CV] END ..learning_rate=0.12, max_depth=7, n_estimators=200; total time=   0.6s\n",
      "[CV] END ..learning_rate=0.12, max_depth=7, n_estimators=200; total time=   0.6s\n",
      "[CV] END ..learning_rate=0.12, max_depth=7, n_estimators=200; total time=   0.6s\n",
      "[CV] END ..learning_rate=0.12, max_depth=7, n_estimators=200; total time=   0.6s\n",
      "[CV] END ..learning_rate=0.12, max_depth=7, n_estimators=200; total time=   0.6s\n",
      "[CV] END ..learning_rate=0.12, max_depth=7, n_estimators=300; total time=   0.8s\n",
      "[CV] END ..learning_rate=0.12, max_depth=7, n_estimators=300; total time=   0.7s\n",
      "[CV] END ..learning_rate=0.12, max_depth=7, n_estimators=300; total time=   0.7s\n",
      "[CV] END ..learning_rate=0.12, max_depth=7, n_estimators=300; total time=   0.7s\n",
      "[CV] END ..learning_rate=0.12, max_depth=7, n_estimators=300; total time=   0.8s\n"
     ]
    }
   ],
   "source": [
    "#Enter code below\n",
    "from sklearn.model_selection import  GridSearchCV\n",
    "param_grid = {\n",
    "    'learning_rate': [0.01, 0.1, 0.12],\n",
    "    'n_estimators': [100, 200, 300], \n",
    "    'max_depth': [3, 5, 7]\n",
    "}\n",
    "grid_search = GridSearchCV(estimator=model_3,param_grid=param_grid, cv=5, scoring='accuracy', verbose=2)\n",
    "grid_search.fit(X_train,y_train)\n",
    "\n",
    "grid_search_best = grid_search.best_params_\n",
    "#End"
   ]
  },
  {
   "cell_type": "markdown",
   "id": "5f681eda-8c7a-4bb1-9af2-25ccd2508326",
   "metadata": {},
   "source": [
    "**Run the below cell to save q9**"
   ]
  },
  {
   "cell_type": "code",
   "execution_count": 124,
   "id": "20754085-8596-4a36-93e5-52b4af280893",
   "metadata": {
    "tags": []
   },
   "outputs": [
    {
     "name": "stdout",
     "output_type": "stream",
     "text": [
      "Test Case 9 Passed\n"
     ]
    }
   ],
   "source": [
    "try:\n",
    "    q9 = [grid_search,grid_search_best]\n",
    "    test_wings_wheat.save_answer_q9(q9)\n",
    "except:\n",
    "    print(\"Please check variable q9\")"
   ]
  },
  {
   "cell_type": "markdown",
   "id": "b281d948-1aa0-4217-ba54-929de079c653",
   "metadata": {},
   "source": [
    "## Question 10 - Retrain model\n",
    "\n",
    "### The objective of this task is to build a new Gradient Boosting Classifier with the best hyperparameters identified through grid search. \n",
    "\n",
    "\n",
    "- Create a new instance of the Gradient Boosting Classifier using the best hyperparameters identified from the grid search and store it in variable model_4.\n",
    "- Fit the new Gradient Boosting Classifier on the training dataset\n",
    "- Use the trained model to predict the target variable for the test dataset (X_test). Store the predicted values in a variable called y_pred_gbc_grid.\n",
    "- Set random_state to 42"
   ]
  },
  {
   "cell_type": "code",
   "execution_count": 125,
   "id": "7958b3d7-f34a-42df-bd69-a3eee75e4d6c",
   "metadata": {
    "tags": []
   },
   "outputs": [
    {
     "data": {
      "text/plain": [
       "{'learning_rate': 0.1, 'max_depth': 3, 'n_estimators': 100}"
      ]
     },
     "execution_count": 125,
     "metadata": {},
     "output_type": "execute_result"
    }
   ],
   "source": [
    "grid_search_best"
   ]
  },
  {
   "cell_type": "code",
   "execution_count": 126,
   "id": "72f84e72-e7df-4659-b7a0-e6c346797a68",
   "metadata": {
    "tags": []
   },
   "outputs": [],
   "source": [
    "#Enter code below\n",
    "\n",
    "model_4 = GradientBoostingClassifier(learning_rate=0.1,max_depth=3,n_estimators=100,random_state=42)\n",
    "model_4.fit(X_train,y_train)\n",
    "\n",
    "y_pred_gbc_grid = model_4.predict(X_test)\n",
    "\n",
    "\n",
    "#End"
   ]
  },
  {
   "cell_type": "markdown",
   "id": "79b2fe18-daa5-44d0-81ed-102784854709",
   "metadata": {},
   "source": [
    "**Run the below cell to save q10**"
   ]
  },
  {
   "cell_type": "code",
   "execution_count": 127,
   "id": "828caee6-c6c5-4172-9179-822a4305413e",
   "metadata": {
    "tags": []
   },
   "outputs": [
    {
     "name": "stdout",
     "output_type": "stream",
     "text": [
      "Test Case 10 Passed\n"
     ]
    }
   ],
   "source": [
    "try:\n",
    "    q10 = [model_4,y_pred_gbc_grid]\n",
    "    test_wings_wheat.save_answer_q10(q10)\n",
    "except:\n",
    "    print(\"Please check variable q10\")"
   ]
  },
  {
   "cell_type": "markdown",
   "id": "9bf3dbac-617a-4ed3-b697-4a17e396a950",
   "metadata": {},
   "source": [
    "# Task - 5 Model Evaluation"
   ]
  },
  {
   "cell_type": "markdown",
   "id": "a2d02ce8-e905-42bf-9850-b03186a06f76",
   "metadata": {},
   "source": [
    "## Question 11 - Model Evaluation\n",
    "\n",
    "### Evaluate the model (model_4) using confusion matrix and generate the classification report\n",
    "\n",
    "\n",
    "- Store the confusion matrix in variable gbc_cm_best\n",
    "- Store the classification repot in variable gbc_cl_best\n",
    "- Type of gbc_cl_best - Dict"
   ]
  },
  {
   "cell_type": "code",
   "execution_count": 130,
   "id": "c8845ca4-c561-4f89-aeb0-c2481040c85e",
   "metadata": {
    "tags": []
   },
   "outputs": [],
   "source": [
    "#Enter code below\n",
    "\n",
    "gbc_cm_best = confusion_matrix(y_test,y_pred_gbc_grid)\n",
    "\n",
    "gbc_cl_best = classification_report(y_test,y_pred_gbc_grid,output_dict=True)\n",
    "\n",
    "\n",
    "\n",
    "#End"
   ]
  },
  {
   "cell_type": "markdown",
   "id": "a4cabc31-e30a-4a70-b97e-32d648a78c08",
   "metadata": {},
   "source": [
    "**Run the below cell to save q11**"
   ]
  },
  {
   "cell_type": "code",
   "execution_count": 131,
   "id": "12764dfa-24b0-4cfc-beaf-7419c6297f50",
   "metadata": {
    "tags": []
   },
   "outputs": [
    {
     "name": "stdout",
     "output_type": "stream",
     "text": [
      "Test Case 11 Passed\n"
     ]
    }
   ],
   "source": [
    "try:\n",
    "    q11 = [gbc_cm_best,gbc_cl_best]\n",
    "    test_wings_wheat.save_answer_q11(q11)\n",
    "except:\n",
    "    print(\"Please check variable q11\")"
   ]
  },
  {
   "cell_type": "markdown",
   "id": "b2de0fde-c395-43a9-b00f-66fedaabac8a",
   "metadata": {},
   "source": [
    "**Run the below cell to save your answers. Do not delete the cell.**"
   ]
  },
  {
   "cell_type": "code",
   "execution_count": 132,
   "id": "73486ff9-3369-4422-a498-cdfdf397ce80",
   "metadata": {
    "tags": []
   },
   "outputs": [
    {
     "name": "stdout",
     "output_type": "stream",
     "text": [
      "Test case 1 Passed\n",
      "Test case 2 Passed\n",
      "Test case 3 Passed\n",
      "Test case 4 Passed\n",
      "Test case 5 Passed\n",
      "Test Case 6 Passed\n",
      "Test Case 7 Passed\n",
      "q8 Saved Successfully\n",
      "Test Case 9 Passed\n",
      "Test Case 10 Passed\n",
      "Test Case 11 Passed\n"
     ]
    }
   ],
   "source": [
    "try:\n",
    "    test_wings_wheat.save_ans(q1,q2,q3,q4,q5,q6,q7,q8,q9,q10,q11)\n",
    "except:\n",
    "    print(\"Please check the variables q1,q2,q3,q4,q5,q6,q7,q8,q9,q10,q11\")"
   ]
  },
  {
   "cell_type": "code",
   "execution_count": null,
   "id": "3d135c02-14e1-4dcd-bd32-b42b415ea46a",
   "metadata": {},
   "outputs": [],
   "source": []
  }
 ],
 "metadata": {
  "kernelspec": {
   "display_name": "Python 3 (ipykernel)",
   "language": "python",
   "name": "python3"
  },
  "language_info": {
   "codemirror_mode": {
    "name": "ipython",
    "version": 3
   },
   "file_extension": ".py",
   "mimetype": "text/x-python",
   "name": "python",
   "nbconvert_exporter": "python",
   "pygments_lexer": "ipython3",
   "version": "3.11.3"
  }
 },
 "nbformat": 4,
 "nbformat_minor": 5
}
