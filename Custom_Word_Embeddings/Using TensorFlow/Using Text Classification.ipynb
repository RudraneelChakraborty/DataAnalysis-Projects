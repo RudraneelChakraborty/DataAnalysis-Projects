{
 "cells": [
  {
   "cell_type": "code",
   "execution_count": 30,
   "metadata": {},
   "outputs": [],
   "source": [
    "import numpy as np\n",
    "from tensorflow.keras.preprocessing.text import one_hot, Tokenizer\n",
    "from tensorflow.keras.preprocessing.sequence import pad_sequences\n",
    "from tensorflow.keras.models import Sequential\n",
    "from tensorflow.keras.layers import Dense\n",
    "from tensorflow.keras.layers import Flatten\n",
    "from tensorflow.keras.layers import Embedding\n",
    "import numpy as np\n",
    "from numpy.linalg import norm\n",
    "\n",
    "reviews = np.array(['nice service',\n",
    "        'amazing restaurant',\n",
    "        'too good',\n",
    "        'just loved it!',\n",
    "        'will go again',\n",
    "        'horrible service',\n",
    "        'never go there',\n",
    "        'poor service',\n",
    "        'poor quality',\n",
    "        'needs improvement'])\n",
    "\n",
    "sentiment = np.array([1,1,1,1,1,0,0,0,0,0])"
   ]
  },
  {
   "cell_type": "code",
   "execution_count": 14,
   "metadata": {},
   "outputs": [],
   "source": [
    "#train tokenizer\n",
    "vocab_size = 10000\n",
    "tokenizer = Tokenizer(num_words = vocab_size)\n",
    "tokenizer.fit_on_texts(reviews)"
   ]
  },
  {
   "cell_type": "code",
   "execution_count": 16,
   "metadata": {},
   "outputs": [
    {
     "data": {
      "text/plain": [
       "[[4, 1],\n",
       " [5, 6],\n",
       " [7, 8],\n",
       " [9, 10, 11],\n",
       " [12, 2, 13],\n",
       " [14, 1],\n",
       " [15, 2, 16],\n",
       " [3, 1],\n",
       " [3, 17],\n",
       " [18, 19]]"
      ]
     },
     "execution_count": 16,
     "metadata": {},
     "output_type": "execute_result"
    }
   ],
   "source": [
    "#encode the sentences\n",
    "encoded_review = tokenizer.texts_to_sequences(reviews)\n",
    "encoded_review"
   ]
  },
  {
   "cell_type": "code",
   "execution_count": 17,
   "metadata": {},
   "outputs": [
    {
     "data": {
      "text/plain": [
       "array([[ 4,  1,  0,  0],\n",
       "       [ 5,  6,  0,  0],\n",
       "       [ 7,  8,  0,  0],\n",
       "       [ 9, 10, 11,  0],\n",
       "       [12,  2, 13,  0],\n",
       "       [14,  1,  0,  0],\n",
       "       [15,  2, 16,  0],\n",
       "       [ 3,  1,  0,  0],\n",
       "       [ 3, 17,  0,  0],\n",
       "       [18, 19,  0,  0]])"
      ]
     },
     "execution_count": 17,
     "metadata": {},
     "output_type": "execute_result"
    }
   ],
   "source": [
    "max_length = 4\n",
    "padded_review = pad_sequences(encoded_review,maxlen=max_length,padding='post')\n",
    "padded_review"
   ]
  },
  {
   "cell_type": "code",
   "execution_count": 18,
   "metadata": {},
   "outputs": [
    {
     "name": "stderr",
     "output_type": "stream",
     "text": [
      "e:\\Softwares\\Anaconda\\Lib\\site-packages\\keras\\src\\layers\\core\\embedding.py:90: UserWarning: Argument `input_length` is deprecated. Just remove it.\n",
      "  warnings.warn(\n"
     ]
    }
   ],
   "source": [
    "embeded_vector_size = 6\n",
    "\n",
    "model = Sequential()\n",
    "model.add(Embedding(vocab_size,output_dim= embeded_vector_size, input_length=max_length,name=\"embedding\"))\n",
    "model.add(Flatten())\n",
    "model.add(Dense(1, activation='sigmoid'))"
   ]
  },
  {
   "cell_type": "code",
   "execution_count": 19,
   "metadata": {},
   "outputs": [],
   "source": [
    "X = padded_review\n",
    "y = sentiment"
   ]
  },
  {
   "cell_type": "code",
   "execution_count": 20,
   "metadata": {},
   "outputs": [
    {
     "data": {
      "text/html": [
       "<pre style=\"white-space:pre;overflow-x:auto;line-height:normal;font-family:Menlo,'DejaVu Sans Mono',consolas,'Courier New',monospace\"><span style=\"font-weight: bold\">Model: \"sequential_1\"</span>\n",
       "</pre>\n"
      ],
      "text/plain": [
       "\u001b[1mModel: \"sequential_1\"\u001b[0m\n"
      ]
     },
     "metadata": {},
     "output_type": "display_data"
    },
    {
     "data": {
      "text/html": [
       "<pre style=\"white-space:pre;overflow-x:auto;line-height:normal;font-family:Menlo,'DejaVu Sans Mono',consolas,'Courier New',monospace\">┏━━━━━━━━━━━━━━━━━━━━━━━━━━━━━━━━━┳━━━━━━━━━━━━━━━━━━━━━━━━┳━━━━━━━━━━━━━━━┓\n",
       "┃<span style=\"font-weight: bold\"> Layer (type)                    </span>┃<span style=\"font-weight: bold\"> Output Shape           </span>┃<span style=\"font-weight: bold\">       Param # </span>┃\n",
       "┡━━━━━━━━━━━━━━━━━━━━━━━━━━━━━━━━━╇━━━━━━━━━━━━━━━━━━━━━━━━╇━━━━━━━━━━━━━━━┩\n",
       "│ embedding (<span style=\"color: #0087ff; text-decoration-color: #0087ff\">Embedding</span>)           │ ?                      │   <span style=\"color: #00af00; text-decoration-color: #00af00\">0</span> (unbuilt) │\n",
       "├─────────────────────────────────┼────────────────────────┼───────────────┤\n",
       "│ flatten_1 (<span style=\"color: #0087ff; text-decoration-color: #0087ff\">Flatten</span>)             │ ?                      │   <span style=\"color: #00af00; text-decoration-color: #00af00\">0</span> (unbuilt) │\n",
       "├─────────────────────────────────┼────────────────────────┼───────────────┤\n",
       "│ dense_1 (<span style=\"color: #0087ff; text-decoration-color: #0087ff\">Dense</span>)                 │ ?                      │   <span style=\"color: #00af00; text-decoration-color: #00af00\">0</span> (unbuilt) │\n",
       "└─────────────────────────────────┴────────────────────────┴───────────────┘\n",
       "</pre>\n"
      ],
      "text/plain": [
       "┏━━━━━━━━━━━━━━━━━━━━━━━━━━━━━━━━━┳━━━━━━━━━━━━━━━━━━━━━━━━┳━━━━━━━━━━━━━━━┓\n",
       "┃\u001b[1m \u001b[0m\u001b[1mLayer (type)                   \u001b[0m\u001b[1m \u001b[0m┃\u001b[1m \u001b[0m\u001b[1mOutput Shape          \u001b[0m\u001b[1m \u001b[0m┃\u001b[1m \u001b[0m\u001b[1m      Param #\u001b[0m\u001b[1m \u001b[0m┃\n",
       "┡━━━━━━━━━━━━━━━━━━━━━━━━━━━━━━━━━╇━━━━━━━━━━━━━━━━━━━━━━━━╇━━━━━━━━━━━━━━━┩\n",
       "│ embedding (\u001b[38;5;33mEmbedding\u001b[0m)           │ ?                      │   \u001b[38;5;34m0\u001b[0m (unbuilt) │\n",
       "├─────────────────────────────────┼────────────────────────┼───────────────┤\n",
       "│ flatten_1 (\u001b[38;5;33mFlatten\u001b[0m)             │ ?                      │   \u001b[38;5;34m0\u001b[0m (unbuilt) │\n",
       "├─────────────────────────────────┼────────────────────────┼───────────────┤\n",
       "│ dense_1 (\u001b[38;5;33mDense\u001b[0m)                 │ ?                      │   \u001b[38;5;34m0\u001b[0m (unbuilt) │\n",
       "└─────────────────────────────────┴────────────────────────┴───────────────┘\n"
      ]
     },
     "metadata": {},
     "output_type": "display_data"
    },
    {
     "data": {
      "text/html": [
       "<pre style=\"white-space:pre;overflow-x:auto;line-height:normal;font-family:Menlo,'DejaVu Sans Mono',consolas,'Courier New',monospace\"><span style=\"font-weight: bold\"> Total params: </span><span style=\"color: #00af00; text-decoration-color: #00af00\">0</span> (0.00 B)\n",
       "</pre>\n"
      ],
      "text/plain": [
       "\u001b[1m Total params: \u001b[0m\u001b[38;5;34m0\u001b[0m (0.00 B)\n"
      ]
     },
     "metadata": {},
     "output_type": "display_data"
    },
    {
     "data": {
      "text/html": [
       "<pre style=\"white-space:pre;overflow-x:auto;line-height:normal;font-family:Menlo,'DejaVu Sans Mono',consolas,'Courier New',monospace\"><span style=\"font-weight: bold\"> Trainable params: </span><span style=\"color: #00af00; text-decoration-color: #00af00\">0</span> (0.00 B)\n",
       "</pre>\n"
      ],
      "text/plain": [
       "\u001b[1m Trainable params: \u001b[0m\u001b[38;5;34m0\u001b[0m (0.00 B)\n"
      ]
     },
     "metadata": {},
     "output_type": "display_data"
    },
    {
     "data": {
      "text/html": [
       "<pre style=\"white-space:pre;overflow-x:auto;line-height:normal;font-family:Menlo,'DejaVu Sans Mono',consolas,'Courier New',monospace\"><span style=\"font-weight: bold\"> Non-trainable params: </span><span style=\"color: #00af00; text-decoration-color: #00af00\">0</span> (0.00 B)\n",
       "</pre>\n"
      ],
      "text/plain": [
       "\u001b[1m Non-trainable params: \u001b[0m\u001b[38;5;34m0\u001b[0m (0.00 B)\n"
      ]
     },
     "metadata": {},
     "output_type": "display_data"
    }
   ],
   "source": [
    "model.compile(optimizer='adam', loss='binary_crossentropy', metrics=['accuracy'])\n",
    "model.summary()"
   ]
  },
  {
   "cell_type": "code",
   "execution_count": 21,
   "metadata": {},
   "outputs": [
    {
     "name": "stdout",
     "output_type": "stream",
     "text": [
      "Epoch 1/50\n",
      "1/1 - 1s - 701ms/step - accuracy: 0.5000 - loss: 0.6899\n",
      "Epoch 2/50\n",
      "1/1 - 0s - 26ms/step - accuracy: 0.5000 - loss: 0.6883\n",
      "Epoch 3/50\n",
      "1/1 - 0s - 35ms/step - accuracy: 0.5000 - loss: 0.6868\n",
      "Epoch 4/50\n",
      "1/1 - 0s - 24ms/step - accuracy: 0.6000 - loss: 0.6852\n",
      "Epoch 5/50\n",
      "1/1 - 0s - 18ms/step - accuracy: 0.7000 - loss: 0.6836\n",
      "Epoch 6/50\n",
      "1/1 - 0s - 27ms/step - accuracy: 0.9000 - loss: 0.6820\n",
      "Epoch 7/50\n",
      "1/1 - 0s - 19ms/step - accuracy: 0.9000 - loss: 0.6805\n",
      "Epoch 8/50\n",
      "1/1 - 0s - 50ms/step - accuracy: 0.9000 - loss: 0.6789\n",
      "Epoch 9/50\n",
      "1/1 - 0s - 30ms/step - accuracy: 0.9000 - loss: 0.6773\n",
      "Epoch 10/50\n",
      "1/1 - 0s - 24ms/step - accuracy: 0.9000 - loss: 0.6757\n",
      "Epoch 11/50\n",
      "1/1 - 0s - 24ms/step - accuracy: 0.9000 - loss: 0.6741\n",
      "Epoch 12/50\n",
      "1/1 - 0s - 27ms/step - accuracy: 0.9000 - loss: 0.6725\n",
      "Epoch 13/50\n",
      "1/1 - 0s - 26ms/step - accuracy: 0.9000 - loss: 0.6709\n",
      "Epoch 14/50\n",
      "1/1 - 0s - 24ms/step - accuracy: 0.9000 - loss: 0.6693\n",
      "Epoch 15/50\n",
      "1/1 - 0s - 24ms/step - accuracy: 0.9000 - loss: 0.6677\n",
      "Epoch 16/50\n",
      "1/1 - 0s - 27ms/step - accuracy: 0.9000 - loss: 0.6661\n",
      "Epoch 17/50\n",
      "1/1 - 0s - 19ms/step - accuracy: 1.0000 - loss: 0.6645\n",
      "Epoch 18/50\n",
      "1/1 - 0s - 34ms/step - accuracy: 1.0000 - loss: 0.6629\n",
      "Epoch 19/50\n",
      "1/1 - 0s - 20ms/step - accuracy: 1.0000 - loss: 0.6612\n",
      "Epoch 20/50\n",
      "1/1 - 0s - 24ms/step - accuracy: 1.0000 - loss: 0.6596\n",
      "Epoch 21/50\n",
      "1/1 - 0s - 28ms/step - accuracy: 1.0000 - loss: 0.6580\n",
      "Epoch 22/50\n",
      "1/1 - 0s - 32ms/step - accuracy: 1.0000 - loss: 0.6563\n",
      "Epoch 23/50\n",
      "1/1 - 0s - 33ms/step - accuracy: 1.0000 - loss: 0.6546\n",
      "Epoch 24/50\n",
      "1/1 - 0s - 25ms/step - accuracy: 1.0000 - loss: 0.6530\n",
      "Epoch 25/50\n",
      "1/1 - 0s - 21ms/step - accuracy: 1.0000 - loss: 0.6513\n",
      "Epoch 26/50\n",
      "1/1 - 0s - 20ms/step - accuracy: 1.0000 - loss: 0.6496\n",
      "Epoch 27/50\n",
      "1/1 - 0s - 28ms/step - accuracy: 1.0000 - loss: 0.6479\n",
      "Epoch 28/50\n",
      "1/1 - 0s - 27ms/step - accuracy: 1.0000 - loss: 0.6462\n",
      "Epoch 29/50\n",
      "1/1 - 0s - 29ms/step - accuracy: 1.0000 - loss: 0.6445\n",
      "Epoch 30/50\n",
      "1/1 - 0s - 26ms/step - accuracy: 1.0000 - loss: 0.6427\n",
      "Epoch 31/50\n",
      "1/1 - 0s - 26ms/step - accuracy: 1.0000 - loss: 0.6410\n",
      "Epoch 32/50\n",
      "1/1 - 0s - 33ms/step - accuracy: 1.0000 - loss: 0.6392\n",
      "Epoch 33/50\n",
      "1/1 - 0s - 30ms/step - accuracy: 1.0000 - loss: 0.6375\n",
      "Epoch 34/50\n",
      "1/1 - 0s - 34ms/step - accuracy: 1.0000 - loss: 0.6357\n",
      "Epoch 35/50\n",
      "1/1 - 0s - 20ms/step - accuracy: 1.0000 - loss: 0.6339\n",
      "Epoch 36/50\n",
      "1/1 - 0s - 25ms/step - accuracy: 1.0000 - loss: 0.6321\n",
      "Epoch 37/50\n",
      "1/1 - 0s - 35ms/step - accuracy: 1.0000 - loss: 0.6303\n",
      "Epoch 38/50\n",
      "1/1 - 0s - 21ms/step - accuracy: 1.0000 - loss: 0.6284\n",
      "Epoch 39/50\n",
      "1/1 - 0s - 17ms/step - accuracy: 1.0000 - loss: 0.6266\n",
      "Epoch 40/50\n",
      "1/1 - 0s - 38ms/step - accuracy: 1.0000 - loss: 0.6247\n",
      "Epoch 41/50\n",
      "1/1 - 0s - 27ms/step - accuracy: 1.0000 - loss: 0.6229\n",
      "Epoch 42/50\n",
      "1/1 - 0s - 29ms/step - accuracy: 1.0000 - loss: 0.6210\n",
      "Epoch 43/50\n",
      "1/1 - 0s - 17ms/step - accuracy: 1.0000 - loss: 0.6191\n",
      "Epoch 44/50\n",
      "1/1 - 0s - 34ms/step - accuracy: 1.0000 - loss: 0.6172\n",
      "Epoch 45/50\n",
      "1/1 - 0s - 27ms/step - accuracy: 1.0000 - loss: 0.6153\n",
      "Epoch 46/50\n",
      "1/1 - 0s - 20ms/step - accuracy: 1.0000 - loss: 0.6134\n",
      "Epoch 47/50\n",
      "1/1 - 0s - 28ms/step - accuracy: 1.0000 - loss: 0.6114\n",
      "Epoch 48/50\n",
      "1/1 - 0s - 33ms/step - accuracy: 1.0000 - loss: 0.6095\n",
      "Epoch 49/50\n",
      "1/1 - 0s - 57ms/step - accuracy: 1.0000 - loss: 0.6075\n",
      "Epoch 50/50\n",
      "1/1 - 0s - 30ms/step - accuracy: 1.0000 - loss: 0.6055\n"
     ]
    },
    {
     "data": {
      "text/plain": [
       "<keras.src.callbacks.history.History at 0x252ce0b9c50>"
      ]
     },
     "execution_count": 21,
     "metadata": {},
     "output_type": "execute_result"
    }
   ],
   "source": [
    "model.fit(X, y, epochs=50, verbose=2)"
   ]
  },
  {
   "cell_type": "code",
   "execution_count": 22,
   "metadata": {},
   "outputs": [
    {
     "data": {
      "text/html": [
       "<pre style=\"white-space:pre;overflow-x:auto;line-height:normal;font-family:Menlo,'DejaVu Sans Mono',consolas,'Courier New',monospace\"><span style=\"font-weight: bold\">Model: \"sequential_1\"</span>\n",
       "</pre>\n"
      ],
      "text/plain": [
       "\u001b[1mModel: \"sequential_1\"\u001b[0m\n"
      ]
     },
     "metadata": {},
     "output_type": "display_data"
    },
    {
     "data": {
      "text/html": [
       "<pre style=\"white-space:pre;overflow-x:auto;line-height:normal;font-family:Menlo,'DejaVu Sans Mono',consolas,'Courier New',monospace\">┏━━━━━━━━━━━━━━━━━━━━━━━━━━━━━━━━━┳━━━━━━━━━━━━━━━━━━━━━━━━┳━━━━━━━━━━━━━━━┓\n",
       "┃<span style=\"font-weight: bold\"> Layer (type)                    </span>┃<span style=\"font-weight: bold\"> Output Shape           </span>┃<span style=\"font-weight: bold\">       Param # </span>┃\n",
       "┡━━━━━━━━━━━━━━━━━━━━━━━━━━━━━━━━━╇━━━━━━━━━━━━━━━━━━━━━━━━╇━━━━━━━━━━━━━━━┩\n",
       "│ embedding (<span style=\"color: #0087ff; text-decoration-color: #0087ff\">Embedding</span>)           │ (<span style=\"color: #00d7ff; text-decoration-color: #00d7ff\">None</span>, <span style=\"color: #00af00; text-decoration-color: #00af00\">4</span>, <span style=\"color: #00af00; text-decoration-color: #00af00\">6</span>)           │        <span style=\"color: #00af00; text-decoration-color: #00af00\">60,000</span> │\n",
       "├─────────────────────────────────┼────────────────────────┼───────────────┤\n",
       "│ flatten_1 (<span style=\"color: #0087ff; text-decoration-color: #0087ff\">Flatten</span>)             │ (<span style=\"color: #00d7ff; text-decoration-color: #00d7ff\">None</span>, <span style=\"color: #00af00; text-decoration-color: #00af00\">24</span>)             │             <span style=\"color: #00af00; text-decoration-color: #00af00\">0</span> │\n",
       "├─────────────────────────────────┼────────────────────────┼───────────────┤\n",
       "│ dense_1 (<span style=\"color: #0087ff; text-decoration-color: #0087ff\">Dense</span>)                 │ (<span style=\"color: #00d7ff; text-decoration-color: #00d7ff\">None</span>, <span style=\"color: #00af00; text-decoration-color: #00af00\">1</span>)              │            <span style=\"color: #00af00; text-decoration-color: #00af00\">25</span> │\n",
       "└─────────────────────────────────┴────────────────────────┴───────────────┘\n",
       "</pre>\n"
      ],
      "text/plain": [
       "┏━━━━━━━━━━━━━━━━━━━━━━━━━━━━━━━━━┳━━━━━━━━━━━━━━━━━━━━━━━━┳━━━━━━━━━━━━━━━┓\n",
       "┃\u001b[1m \u001b[0m\u001b[1mLayer (type)                   \u001b[0m\u001b[1m \u001b[0m┃\u001b[1m \u001b[0m\u001b[1mOutput Shape          \u001b[0m\u001b[1m \u001b[0m┃\u001b[1m \u001b[0m\u001b[1m      Param #\u001b[0m\u001b[1m \u001b[0m┃\n",
       "┡━━━━━━━━━━━━━━━━━━━━━━━━━━━━━━━━━╇━━━━━━━━━━━━━━━━━━━━━━━━╇━━━━━━━━━━━━━━━┩\n",
       "│ embedding (\u001b[38;5;33mEmbedding\u001b[0m)           │ (\u001b[38;5;45mNone\u001b[0m, \u001b[38;5;34m4\u001b[0m, \u001b[38;5;34m6\u001b[0m)           │        \u001b[38;5;34m60,000\u001b[0m │\n",
       "├─────────────────────────────────┼────────────────────────┼───────────────┤\n",
       "│ flatten_1 (\u001b[38;5;33mFlatten\u001b[0m)             │ (\u001b[38;5;45mNone\u001b[0m, \u001b[38;5;34m24\u001b[0m)             │             \u001b[38;5;34m0\u001b[0m │\n",
       "├─────────────────────────────────┼────────────────────────┼───────────────┤\n",
       "│ dense_1 (\u001b[38;5;33mDense\u001b[0m)                 │ (\u001b[38;5;45mNone\u001b[0m, \u001b[38;5;34m1\u001b[0m)              │            \u001b[38;5;34m25\u001b[0m │\n",
       "└─────────────────────────────────┴────────────────────────┴───────────────┘\n"
      ]
     },
     "metadata": {},
     "output_type": "display_data"
    },
    {
     "data": {
      "text/html": [
       "<pre style=\"white-space:pre;overflow-x:auto;line-height:normal;font-family:Menlo,'DejaVu Sans Mono',consolas,'Courier New',monospace\"><span style=\"font-weight: bold\"> Total params: </span><span style=\"color: #00af00; text-decoration-color: #00af00\">180,077</span> (703.43 KB)\n",
       "</pre>\n"
      ],
      "text/plain": [
       "\u001b[1m Total params: \u001b[0m\u001b[38;5;34m180,077\u001b[0m (703.43 KB)\n"
      ]
     },
     "metadata": {},
     "output_type": "display_data"
    },
    {
     "data": {
      "text/html": [
       "<pre style=\"white-space:pre;overflow-x:auto;line-height:normal;font-family:Menlo,'DejaVu Sans Mono',consolas,'Courier New',monospace\"><span style=\"font-weight: bold\"> Trainable params: </span><span style=\"color: #00af00; text-decoration-color: #00af00\">60,025</span> (234.47 KB)\n",
       "</pre>\n"
      ],
      "text/plain": [
       "\u001b[1m Trainable params: \u001b[0m\u001b[38;5;34m60,025\u001b[0m (234.47 KB)\n"
      ]
     },
     "metadata": {},
     "output_type": "display_data"
    },
    {
     "data": {
      "text/html": [
       "<pre style=\"white-space:pre;overflow-x:auto;line-height:normal;font-family:Menlo,'DejaVu Sans Mono',consolas,'Courier New',monospace\"><span style=\"font-weight: bold\"> Non-trainable params: </span><span style=\"color: #00af00; text-decoration-color: #00af00\">0</span> (0.00 B)\n",
       "</pre>\n"
      ],
      "text/plain": [
       "\u001b[1m Non-trainable params: \u001b[0m\u001b[38;5;34m0\u001b[0m (0.00 B)\n"
      ]
     },
     "metadata": {},
     "output_type": "display_data"
    },
    {
     "data": {
      "text/html": [
       "<pre style=\"white-space:pre;overflow-x:auto;line-height:normal;font-family:Menlo,'DejaVu Sans Mono',consolas,'Courier New',monospace\"><span style=\"font-weight: bold\"> Optimizer params: </span><span style=\"color: #00af00; text-decoration-color: #00af00\">120,052</span> (468.96 KB)\n",
       "</pre>\n"
      ],
      "text/plain": [
       "\u001b[1m Optimizer params: \u001b[0m\u001b[38;5;34m120,052\u001b[0m (468.96 KB)\n"
      ]
     },
     "metadata": {},
     "output_type": "display_data"
    }
   ],
   "source": [
    "model.summary()"
   ]
  },
  {
   "cell_type": "code",
   "execution_count": 23,
   "metadata": {},
   "outputs": [
    {
     "name": "stdout",
     "output_type": "stream",
     "text": [
      "1/1 - 0s - 233ms/step - accuracy: 1.0000 - loss: 0.6035\n"
     ]
    }
   ],
   "source": [
    "loss,accuracy = model.evaluate(padded_review, sentiment, verbose=2)"
   ]
  },
  {
   "cell_type": "code",
   "execution_count": 24,
   "metadata": {},
   "outputs": [
    {
     "data": {
      "text/plain": [
       "10000"
      ]
     },
     "execution_count": 24,
     "metadata": {},
     "output_type": "execute_result"
    }
   ],
   "source": [
    "embedding_weights = model.get_layer('embedding').get_weights()[0]\n",
    "len(embedding_weights)"
   ]
  },
  {
   "cell_type": "code",
   "execution_count": 10,
   "metadata": {},
   "outputs": [
    {
     "data": {
      "text/plain": [
       "array([-0.09574086,  0.10009015,  0.10751449, -0.0836001 ,  0.01544824],\n",
       "      dtype=float32)"
      ]
     },
     "execution_count": 10,
     "metadata": {},
     "output_type": "execute_result"
    }
   ],
   "source": [
    "embedding_weights[6179]"
   ]
  },
  {
   "cell_type": "code",
   "execution_count": 25,
   "metadata": {},
   "outputs": [],
   "source": [
    "w2v_my = {}\n",
    "\n",
    "for word, index in tokenizer.word_index.items():\n",
    "    w2v_my[word] = embedding_weights[index]"
   ]
  },
  {
   "cell_type": "code",
   "execution_count": 26,
   "metadata": {},
   "outputs": [
    {
     "data": {
      "text/plain": [
       "{'service': array([-0.05742276, -0.00824009,  0.03412312,  0.06828044,  0.02239429,\n",
       "        -0.04595489], dtype=float32),\n",
       " 'go': array([-0.00414472,  0.01964854, -0.02402994, -0.03045799,  0.03911931,\n",
       "        -0.01932709], dtype=float32),\n",
       " 'poor': array([-0.0481586 , -0.04493286, -0.05551243,  0.10930685,  0.02118309,\n",
       "        -0.0944111 ], dtype=float32),\n",
       " 'nice': array([ 0.01163845,  0.07250951,  0.0027564 , -0.06915941, -0.08880052,\n",
       "         0.0388923 ], dtype=float32),\n",
       " 'amazing': array([ 0.02783069,  0.09771395,  0.08737823, -0.0732104 , -0.02370714,\n",
       "         0.03525441], dtype=float32),\n",
       " 'restaurant': array([ 0.0364366 ,  0.01414193, -0.05506751, -0.08960474,  0.01263289,\n",
       "         0.09589031], dtype=float32),\n",
       " 'too': array([ 0.03779981,  0.02774276,  0.02058887, -0.09975199, -0.02492266,\n",
       "         0.06192296], dtype=float32),\n",
       " 'good': array([ 0.07828788,  0.10118476, -0.09585537, -0.04963742,  0.07117011,\n",
       "         0.02387343], dtype=float32),\n",
       " 'just': array([ 0.04325438,  0.09935336,  0.03098536, -0.01178645, -0.02167054,\n",
       "         0.03483045], dtype=float32),\n",
       " 'loved': array([ 0.06497306,  0.07302608, -0.07175001, -0.01388315,  0.01794977,\n",
       "         0.09050374], dtype=float32),\n",
       " 'it': array([-0.0569836 , -0.05931506,  0.06075644,  0.09652612,  0.0281481 ,\n",
       "        -0.00715906], dtype=float32),\n",
       " 'will': array([ 0.09829396,  0.02864358,  0.09123887, -0.09705451, -0.01810569,\n",
       "         0.05595136], dtype=float32),\n",
       " 'again': array([-4.9618311e-02, -6.2623471e-02,  8.9234814e-02,  3.7651930e-02,\n",
       "        -3.9763865e-05, -9.0486333e-02], dtype=float32),\n",
       " 'horrible': array([-0.07889181, -0.08729333, -0.07862124,  0.06596074,  0.03678369,\n",
       "        -0.06074657], dtype=float32),\n",
       " 'never': array([-0.04207858, -0.01686378, -0.09697056,  0.00662572,  0.08231362,\n",
       "        -0.0605494 ], dtype=float32),\n",
       " 'there': array([ 0.06521788,  0.02295649, -0.10040805, -0.04020241, -0.01507005,\n",
       "         0.08083349], dtype=float32),\n",
       " 'quality': array([-0.10157766, -0.09633597,  0.09234691,  0.07401902, -0.05754989,\n",
       "        -0.09351651], dtype=float32),\n",
       " 'needs': array([-0.01373585, -0.04141894, -0.08660842,  0.09376048,  0.03488101,\n",
       "        -0.05342698], dtype=float32),\n",
       " 'improvement': array([-0.07691754, -0.10196643,  0.01796714,  0.06341132, -0.02761778,\n",
       "        -0.01930633], dtype=float32)}"
      ]
     },
     "execution_count": 26,
     "metadata": {},
     "output_type": "execute_result"
    }
   ],
   "source": [
    "w2v_my"
   ]
  },
  {
   "cell_type": "code",
   "execution_count": 27,
   "metadata": {},
   "outputs": [
    {
     "name": "stdout",
     "output_type": "stream",
     "text": [
      "[ 0.07828788  0.10118476 -0.09585537 -0.04963742  0.07117011  0.02387343]\n"
     ]
    }
   ],
   "source": [
    "print(w2v_my['good'])"
   ]
  },
  {
   "cell_type": "code",
   "execution_count": 28,
   "metadata": {},
   "outputs": [
    {
     "name": "stdout",
     "output_type": "stream",
     "text": [
      "[ 0.02783069  0.09771395  0.08737823 -0.0732104  -0.02370714  0.03525441]\n"
     ]
    }
   ],
   "source": [
    "print(w2v_my['amazing'])"
   ]
  },
  {
   "cell_type": "code",
   "execution_count": 33,
   "metadata": {},
   "outputs": [
    {
     "data": {
      "text/plain": [
       "0.8365706"
      ]
     },
     "execution_count": 33,
     "metadata": {},
     "output_type": "execute_result"
    }
   ],
   "source": [
    "cosine = np.dot(w2v_my['good'],w2v_my['loved'])/(norm(w2v_my['good'])*(norm(w2v_my['loved'])))\n",
    "cosine"
   ]
  },
  {
   "cell_type": "code",
   "execution_count": null,
   "metadata": {},
   "outputs": [],
   "source": []
  },
  {
   "cell_type": "code",
   "execution_count": 35,
   "metadata": {},
   "outputs": [],
   "source": [
    "## Save weights of embeddings\n",
    "np.savez('./saved_weights/embeddings.npz', **w2v_my)"
   ]
  },
  {
   "cell_type": "code",
   "execution_count": 38,
   "metadata": {},
   "outputs": [
    {
     "name": "stdout",
     "output_type": "stream",
     "text": [
      "['service', 'go', 'poor', 'nice', 'amazing', 'restaurant', 'too', 'good', 'just', 'loved', 'it', 'will', 'again', 'horrible', 'never', 'there', 'quality', 'needs', 'improvement']\n",
      "[ 0.02783069  0.09771395  0.08737823 -0.0732104  -0.02370714  0.03525441]\n"
     ]
    }
   ],
   "source": [
    "load_embeddings = np.load('./saved_weights/embeddings.npz')\n",
    "\n",
    "# check existing words (keys)\n",
    "print(load_embeddings.files)\n",
    "\n",
    "# get embeddings for some specific word\n",
    "print(load_embeddings['amazing'])"
   ]
  }
 ],
 "metadata": {
  "kernelspec": {
   "display_name": "base",
   "language": "python",
   "name": "python3"
  },
  "language_info": {
   "codemirror_mode": {
    "name": "ipython",
    "version": 3
   },
   "file_extension": ".py",
   "mimetype": "text/x-python",
   "name": "python",
   "nbconvert_exporter": "python",
   "pygments_lexer": "ipython3",
   "version": "3.11.7"
  }
 },
 "nbformat": 4,
 "nbformat_minor": 2
}
