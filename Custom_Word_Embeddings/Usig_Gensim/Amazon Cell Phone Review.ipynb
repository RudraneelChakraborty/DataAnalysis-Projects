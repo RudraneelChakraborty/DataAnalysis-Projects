{
 "cells": [
  {
   "cell_type": "code",
   "execution_count": 1,
   "metadata": {},
   "outputs": [],
   "source": [
    "import gensim\n",
    "import pandas as pd"
   ]
  },
  {
   "cell_type": "code",
   "execution_count": 2,
   "metadata": {},
   "outputs": [],
   "source": [
    "df = pd.read_json('./Cell_Phones_and_Accessories_5.json', lines=True)"
   ]
  },
  {
   "cell_type": "code",
   "execution_count": 7,
   "metadata": {},
   "outputs": [
    {
     "data": {
      "text/html": [
       "<div>\n",
       "<style scoped>\n",
       "    .dataframe tbody tr th:only-of-type {\n",
       "        vertical-align: middle;\n",
       "    }\n",
       "\n",
       "    .dataframe tbody tr th {\n",
       "        vertical-align: top;\n",
       "    }\n",
       "\n",
       "    .dataframe thead th {\n",
       "        text-align: right;\n",
       "    }\n",
       "</style>\n",
       "<table border=\"1\" class=\"dataframe\">\n",
       "  <thead>\n",
       "    <tr style=\"text-align: right;\">\n",
       "      <th></th>\n",
       "      <th>reviewerID</th>\n",
       "      <th>asin</th>\n",
       "      <th>reviewerName</th>\n",
       "      <th>helpful</th>\n",
       "      <th>reviewText</th>\n",
       "      <th>overall</th>\n",
       "      <th>summary</th>\n",
       "      <th>unixReviewTime</th>\n",
       "      <th>reviewTime</th>\n",
       "    </tr>\n",
       "  </thead>\n",
       "  <tbody>\n",
       "    <tr>\n",
       "      <th>0</th>\n",
       "      <td>A30TL5EWN6DFXT</td>\n",
       "      <td>120401325X</td>\n",
       "      <td>christina</td>\n",
       "      <td>[0, 0]</td>\n",
       "      <td>They look good and stick good! I just don't li...</td>\n",
       "      <td>4</td>\n",
       "      <td>Looks Good</td>\n",
       "      <td>1400630400</td>\n",
       "      <td>05 21, 2014</td>\n",
       "    </tr>\n",
       "    <tr>\n",
       "      <th>1</th>\n",
       "      <td>ASY55RVNIL0UD</td>\n",
       "      <td>120401325X</td>\n",
       "      <td>emily l.</td>\n",
       "      <td>[0, 0]</td>\n",
       "      <td>These stickers work like the review says they ...</td>\n",
       "      <td>5</td>\n",
       "      <td>Really great product.</td>\n",
       "      <td>1389657600</td>\n",
       "      <td>01 14, 2014</td>\n",
       "    </tr>\n",
       "    <tr>\n",
       "      <th>2</th>\n",
       "      <td>A2TMXE2AFO7ONB</td>\n",
       "      <td>120401325X</td>\n",
       "      <td>Erica</td>\n",
       "      <td>[0, 0]</td>\n",
       "      <td>These are awesome and make my phone look so st...</td>\n",
       "      <td>5</td>\n",
       "      <td>LOVE LOVE LOVE</td>\n",
       "      <td>1403740800</td>\n",
       "      <td>06 26, 2014</td>\n",
       "    </tr>\n",
       "    <tr>\n",
       "      <th>3</th>\n",
       "      <td>AWJ0WZQYMYFQ4</td>\n",
       "      <td>120401325X</td>\n",
       "      <td>JM</td>\n",
       "      <td>[4, 4]</td>\n",
       "      <td>Item arrived in great time and was in perfect ...</td>\n",
       "      <td>4</td>\n",
       "      <td>Cute!</td>\n",
       "      <td>1382313600</td>\n",
       "      <td>10 21, 2013</td>\n",
       "    </tr>\n",
       "    <tr>\n",
       "      <th>4</th>\n",
       "      <td>ATX7CZYFXI1KW</td>\n",
       "      <td>120401325X</td>\n",
       "      <td>patrice m rogoza</td>\n",
       "      <td>[2, 3]</td>\n",
       "      <td>awesome! stays on, and looks great. can be use...</td>\n",
       "      <td>5</td>\n",
       "      <td>leopard home button sticker for iphone 4s</td>\n",
       "      <td>1359849600</td>\n",
       "      <td>02 3, 2013</td>\n",
       "    </tr>\n",
       "  </tbody>\n",
       "</table>\n",
       "</div>"
      ],
      "text/plain": [
       "       reviewerID        asin      reviewerName helpful  \\\n",
       "0  A30TL5EWN6DFXT  120401325X         christina  [0, 0]   \n",
       "1   ASY55RVNIL0UD  120401325X          emily l.  [0, 0]   \n",
       "2  A2TMXE2AFO7ONB  120401325X             Erica  [0, 0]   \n",
       "3   AWJ0WZQYMYFQ4  120401325X                JM  [4, 4]   \n",
       "4   ATX7CZYFXI1KW  120401325X  patrice m rogoza  [2, 3]   \n",
       "\n",
       "                                          reviewText  overall  \\\n",
       "0  They look good and stick good! I just don't li...        4   \n",
       "1  These stickers work like the review says they ...        5   \n",
       "2  These are awesome and make my phone look so st...        5   \n",
       "3  Item arrived in great time and was in perfect ...        4   \n",
       "4  awesome! stays on, and looks great. can be use...        5   \n",
       "\n",
       "                                     summary  unixReviewTime   reviewTime  \n",
       "0                                 Looks Good      1400630400  05 21, 2014  \n",
       "1                      Really great product.      1389657600  01 14, 2014  \n",
       "2                             LOVE LOVE LOVE      1403740800  06 26, 2014  \n",
       "3                                      Cute!      1382313600  10 21, 2013  \n",
       "4  leopard home button sticker for iphone 4s      1359849600   02 3, 2013  "
      ]
     },
     "execution_count": 7,
     "metadata": {},
     "output_type": "execute_result"
    }
   ],
   "source": [
    "df.head(5)"
   ]
  },
  {
   "cell_type": "code",
   "execution_count": 3,
   "metadata": {},
   "outputs": [
    {
     "data": {
      "text/plain": [
       "(194439, 9)"
      ]
     },
     "execution_count": 3,
     "metadata": {},
     "output_type": "execute_result"
    }
   ],
   "source": [
    "df.shape"
   ]
  },
  {
   "cell_type": "code",
   "execution_count": 4,
   "metadata": {},
   "outputs": [
    {
     "data": {
      "text/plain": [
       "\"They look good and stick good! I just don't like the rounded shape because I was always bumping it and Siri kept popping up and it was irritating. I just won't buy a product like this again\""
      ]
     },
     "execution_count": 4,
     "metadata": {},
     "output_type": "execute_result"
    }
   ],
   "source": [
    "df['reviewText'][0]"
   ]
  },
  {
   "cell_type": "code",
   "execution_count": 5,
   "metadata": {},
   "outputs": [],
   "source": [
    "#Simple Preprocessing and Tokenize\n",
    "\n",
    "review_text = df.reviewText.apply(gensim.utils.simple_preprocess)"
   ]
  },
  {
   "cell_type": "code",
   "execution_count": 6,
   "metadata": {},
   "outputs": [
    {
     "data": {
      "text/plain": [
       "0         [they, look, good, and, stick, good, just, don...\n",
       "1         [these, stickers, work, like, the, review, say...\n",
       "2         [these, are, awesome, and, make, my, phone, lo...\n",
       "3         [item, arrived, in, great, time, and, was, in,...\n",
       "4         [awesome, stays, on, and, looks, great, can, b...\n",
       "                                ...                        \n",
       "194434    [works, great, just, like, my, original, one, ...\n",
       "194435    [great, product, great, packaging, high, quali...\n",
       "194436    [this, is, great, cable, just, as, good, as, t...\n",
       "194437    [really, like, it, becasue, it, works, well, w...\n",
       "194438    [product, as, described, have, wasted, lot, of...\n",
       "Name: reviewText, Length: 194439, dtype: object"
      ]
     },
     "execution_count": 6,
     "metadata": {},
     "output_type": "execute_result"
    }
   ],
   "source": [
    "review_text"
   ]
  },
  {
   "cell_type": "code",
   "execution_count": 11,
   "metadata": {},
   "outputs": [],
   "source": [
    "#Initislizing the model\n",
    "\n",
    "\n",
    "model = gensim.models.Word2Vec(\n",
    "    window=10,\n",
    "    min_count=2,\n",
    "    workers=4,\n",
    "    epochs=10\n",
    ")"
   ]
  },
  {
   "cell_type": "markdown",
   "metadata": {},
   "source": [
    "Build Vocab"
   ]
  },
  {
   "cell_type": "code",
   "execution_count": 13,
   "metadata": {},
   "outputs": [],
   "source": [
    "model.build_vocab(review_text,progress_per=100)"
   ]
  },
  {
   "cell_type": "markdown",
   "metadata": {},
   "source": [
    "Training"
   ]
  },
  {
   "cell_type": "code",
   "execution_count": 15,
   "metadata": {},
   "outputs": [
    {
     "data": {
      "text/plain": [
       "(123013447, 167737950)"
      ]
     },
     "execution_count": 15,
     "metadata": {},
     "output_type": "execute_result"
    }
   ],
   "source": [
    "model.train(review_text, total_examples=model.corpus_count, epochs=model.epochs)"
   ]
  },
  {
   "cell_type": "code",
   "execution_count": 16,
   "metadata": {},
   "outputs": [],
   "source": [
    "model.save('./saved_models/word2vec-amazon-cell-reviews.model')"
   ]
  },
  {
   "cell_type": "code",
   "execution_count": 17,
   "metadata": {},
   "outputs": [
    {
     "data": {
      "text/plain": [
       "[('terrible', 0.6695847511291504),\n",
       " ('shabby', 0.6576861143112183),\n",
       " ('good', 0.5935689210891724),\n",
       " ('horrible', 0.5906153917312622),\n",
       " ('awful', 0.5385581254959106),\n",
       " ('okay', 0.5274118781089783),\n",
       " ('crappy', 0.5258909463882446),\n",
       " ('legit', 0.5223528146743774),\n",
       " ('exciting', 0.5212365388870239),\n",
       " ('disappointing', 0.5153327584266663)]"
      ]
     },
     "execution_count": 17,
     "metadata": {},
     "output_type": "execute_result"
    }
   ],
   "source": [
    "model.wv.most_similar('bad')"
   ]
  },
  {
   "cell_type": "code",
   "execution_count": 19,
   "metadata": {},
   "outputs": [],
   "source": [
    "#Store the words + embeddings\n",
    "from gensim.models import KeyedVectors\n",
    "word_vectors = model.wv\n",
    "word_vectors.save('./saved_weights/word2vec-amazon-cell-reviews.wordvectors')\n",
    "\n",
    "#load back\n",
    "wv_my = KeyedVectors.load('./saved_weights/word2vec-amazon-cell-reviews.wordvectors', mmap='r')"
   ]
  },
  {
   "cell_type": "code",
   "execution_count": 60,
   "metadata": {},
   "outputs": [
    {
     "data": {
      "text/plain": [
       "array([-0.626155  , -0.90105426, -1.3408837 ,  0.20661478, -0.29260623,\n",
       "        3.4004748 , -1.576609  , -0.18423922, -1.105542  , -0.5568614 ,\n",
       "        1.3403294 ,  0.5320507 ,  1.9873713 ,  0.3990386 , -1.8265526 ,\n",
       "        2.79107   , -0.64846534,  0.9956031 , -0.7182522 , -0.3051935 ,\n",
       "        0.73368543,  0.3641481 , -0.33329108,  1.1841555 , -0.82690936,\n",
       "        0.9897949 ,  1.4652265 , -0.1611386 ,  0.21398796,  0.02859775,\n",
       "        3.1452181 , -1.9936785 , -0.20500019,  0.1837355 ,  1.138417  ,\n",
       "       -0.7756844 ,  0.3818761 ,  2.7331164 ,  0.49901438,  2.249884  ,\n",
       "       -0.70854044,  0.8645374 ,  2.7534196 , -1.3520013 ,  1.2688842 ,\n",
       "       -0.34128428,  0.48041126,  0.02900871, -1.3170048 ,  0.01246584,\n",
       "        0.11163396,  1.6502991 , -0.81986976, -2.7234879 , -0.8709188 ,\n",
       "       -0.5363886 , -0.30064967,  0.41917357,  0.79155844,  1.3635225 ,\n",
       "       -0.5161363 ,  2.4331474 ,  0.3764144 ,  0.9750039 , -2.0342782 ,\n",
       "       -1.1691629 , -0.7347459 , -0.9768845 , -1.2816901 ,  0.1678713 ,\n",
       "        0.21942954, -1.0538406 , -0.3610477 ,  0.72145945,  1.2383093 ,\n",
       "        1.1295391 ,  0.5321656 , -2.0681405 ,  0.06594104,  1.5937114 ,\n",
       "        0.45584995,  3.7713807 ,  1.4323062 , -3.373258  ,  2.6063888 ,\n",
       "       -0.15694967, -0.9347928 , -0.82467794,  0.77870107,  0.71807444,\n",
       "       -3.1715229 , -0.15022007,  1.7816241 , -0.9381013 ,  2.1543875 ,\n",
       "       -0.13039581, -1.7086864 ,  0.7854269 , -0.75021327, -1.1452755 ],\n",
       "      dtype=float32)"
      ]
     },
     "execution_count": 60,
     "metadata": {},
     "output_type": "execute_result"
    }
   ],
   "source": [
    "\n",
    "wv_my['and']"
   ]
  },
  {
   "cell_type": "code",
   "execution_count": 50,
   "metadata": {},
   "outputs": [
    {
     "data": {
      "text/plain": [
       "[('outdated', 0.5896090269088745),\n",
       " ('flagship', 0.5802364945411682),\n",
       " ('latest', 0.5730975270271301),\n",
       " ('world', 0.572501540184021),\n",
       " ('beast', 0.5722168684005737),\n",
       " ('symbian', 0.5707665085792542),\n",
       " ('newest', 0.5682141184806824),\n",
       " ('snapdragon', 0.5618101954460144),\n",
       " ('leaders', 0.5492086410522461),\n",
       " ('marketplace', 0.5434140563011169)]"
      ]
     },
     "execution_count": 50,
     "metadata": {},
     "output_type": "execute_result"
    }
   ],
   "source": [
    "wv_my.most_similar('king')"
   ]
  },
  {
   "cell_type": "code",
   "execution_count": 49,
   "metadata": {},
   "outputs": [],
   "source": [
    "#Save only by the key pair\n",
    "model.wv.save_word2vec_format('./saved_weights/word2vec-amazon-cell-reviews.txt',binary=False,write_header=False)"
   ]
  },
  {
   "cell_type": "code",
   "execution_count": 68,
   "metadata": {},
   "outputs": [
    {
     "data": {
      "text/plain": [
       "'projections/model.ckpt-1'"
      ]
     },
     "execution_count": 68,
     "metadata": {},
     "output_type": "execute_result"
    }
   ],
   "source": [
    "import numpy as np\n",
    "import tensorflow as tf\n",
    "import os\n",
    "from tensorboard.plugins import projector\n",
    "\n",
    "model_vec = gensim.models.keyedvectors.KeyedVectors.load('./saved_weights/word2vec-amazon-cell-reviews.wordvectors')\n",
    "\n",
    "max_size = len(model_vec.key_to_index)-1\n",
    "w2v = np.zeros((max_size,model_vec.vector_size))\n",
    "\n",
    "if not os.path.exists('projections'):\n",
    "    os.makedirs('projections')\n",
    "\n",
    "with open(\"projections/metadata.tsv\", 'w+') as file_metadata:\n",
    "\n",
    "    for i, word in enumerate(model_vec.index_to_key[:max_size]):\n",
    "\n",
    "        #store the embeddings of the word\n",
    "        w2v[i] = model_vec[word]\n",
    "\n",
    "        #write the word to a file \n",
    "        file_metadata.write(word + '\\n')\n",
    "\n",
    "# sess = tf.InteractiveSession()\n",
    "# with tf.device(\"/cpu:0\"):\n",
    "#     embedding = tf.Variable(w2v, trainable=False, name='embedding')\n",
    "# tf.global_variables_initializer().run()\n",
    "# saver = tf.train.Saver()\n",
    "# writer = tf.summary.FileWriter('projections', sess.graph)\n",
    "# config = projector.ProjectorConfig()\n",
    "# embed= config.embeddings.add()\n",
    "# embed.tensor_name = 'embedding'\n",
    "# embed.metadata_path = 'metadata.tsv'\n",
    "# projector.visualize_embeddings(writer, config)\n",
    "# saver.save(sess, 'projections/model.ckpt', global_step=max_size)\n",
    "\n",
    "# Create embedding variable\n",
    "embedding = tf.Variable(w2v, dtype=tf.float32, trainable=False, name='embedding')\n",
    "\n",
    "# Projector configuration\n",
    "writer = tf.summary.create_file_writer('projections')\n",
    "config = projector.ProjectorConfig()\n",
    "embed = config.embeddings.add()\n",
    "embed.tensor_name = embedding.name\n",
    "embed.metadata_path = 'metadata.tsv'\n",
    "projector.visualize_embeddings(logdir='./projections/', config=config)\n",
    "\n",
    "# Save checkpoint\n",
    "saver = tf.train.Checkpoint(embedding=embedding)  # Assuming embedding is a variable\n",
    "saver.save(file_prefix='projections/model.ckpt')"
   ]
  },
  {
   "cell_type": "code",
   "execution_count": 42,
   "metadata": {},
   "outputs": [],
   "source": [
    "corpus = [\"the\", \"king\", \"is\", \"wise\", \"and\", \"the\", \"queen\", \"is\", \"beautiful\"]\n",
    "\n",
    "# Prepare training data (center words and their corresponding context words)\n",
    "center_word_data = []\n",
    "context_word_data = []\n",
    "window_size = 5\n",
    "\n",
    "for sentence in corpus:\n",
    "  for i in range(window_size, len(sentence) - window_size):  # Adjusted starting index\n",
    "    center_word = sentence[i]\n",
    "    context_words = sentence[i - window_size:i + window_size + 1]\n",
    "    context_word_data.append(context_words[i])\n",
    "    center_word_data.append(center_word)"
   ]
  },
  {
   "cell_type": "code",
   "execution_count": 45,
   "metadata": {},
   "outputs": [
    {
     "data": {
      "text/plain": [
       "'wise'"
      ]
     },
     "execution_count": 45,
     "metadata": {},
     "output_type": "execute_result"
    }
   ],
   "source": []
  }
 ],
 "metadata": {
  "kernelspec": {
   "display_name": "base",
   "language": "python",
   "name": "python3"
  },
  "language_info": {
   "codemirror_mode": {
    "name": "ipython",
    "version": 3
   },
   "file_extension": ".py",
   "mimetype": "text/x-python",
   "name": "python",
   "nbconvert_exporter": "python",
   "pygments_lexer": "ipython3",
   "version": "3.11.7"
  }
 },
 "nbformat": 4,
 "nbformat_minor": 2
}
